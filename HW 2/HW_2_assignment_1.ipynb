{
  "nbformat": 4,
  "nbformat_minor": 0,
  "metadata": {
    "colab": {
      "name": "HW_2_assignment_1.ipynb",
      "provenance": []
    },
    "kernelspec": {
      "name": "python3",
      "display_name": "Python 3"
    },
    "language_info": {
      "name": "python"
    }
  },
  "cells": [
    {
      "cell_type": "markdown",
      "metadata": {
        "id": "rm3Jed6NsC11"
      },
      "source": [
        "Collin Davidson\n",
        "\n",
        "---\n",
        "HW 2 Assignment 1\n"
      ]
    },
    {
      "cell_type": "code",
      "metadata": {
        "colab": {
          "base_uri": "https://localhost:8080/"
        },
        "id": "51GfDCFhdct1",
        "outputId": "9810358f-130b-4554-aa5d-583e7c28aa4e"
      },
      "source": [
        "from __future__ import print_function, division\n",
        "import numpy as np\n",
        "import scipy as sp\n",
        "from scipy import stats\n",
        "import pylab as pl\n",
        "%pylab inline\n",
        "pl.style.use(\"https://raw.githubusercontent.com/fedhere/DSPS/master/fbb.mplstyle\")"
      ],
      "execution_count": 4,
      "outputs": [
        {
          "output_type": "stream",
          "name": "stdout",
          "text": [
            "Populating the interactive namespace from numpy and matplotlib\n"
          ]
        }
      ]
    },
    {
      "cell_type": "code",
      "metadata": {
        "colab": {
          "base_uri": "https://localhost:8080/",
          "height": 333
        },
        "id": "jmuTYyRJdrQX",
        "outputId": "22b66b33-7f94-447a-88a8-154437f7b2df"
      },
      "source": [
        "np.random.randn(123)\n",
        "fig, ax = pl.subplots()\n",
        "for a in [0.2, 0.6, 1.0]:\n",
        "    ax.hist(sp.stats.chi.rvs(df=3, scale=a, size=1000), \n",
        "          bins=np.arange(0,5,0.1), alpha=0.7,\n",
        "       label=\"a = %.1f\"%a);\n",
        "\n",
        "pl.legend();\n",
        "\n",
        "# your code here\n",
        "pl.ylabel('number of particles')\n",
        "pl.xlabel('velocity');\n"
      ],
      "execution_count": 5,
      "outputs": [
        {
          "output_type": "stream",
          "name": "stderr",
          "text": [
            "findfont: Font family ['[\"sans-serif\"]'] not found. Falling back to DejaVu Sans.\n",
            "findfont: Font family ['[\"sans-serif\"]'] not found. Falling back to DejaVu Sans.\n"
          ]
        },
        {
          "output_type": "display_data",
          "data": {
            "image/png": "[encoded data removed]",
            "text/plain": [
              "<Figure size 432x288 with 1 Axes>"
            ]
          },
          "metadata": {}
        }
      ]
    },
    {
      "cell_type": "markdown",
      "metadata": {
        "id": "VizLeoHAKE3r"
      },
      "source": [
        "2) The dependency is on the root of the temperature. a **∝** √T\n",
        "\n"
      ]
    },
    {
      "cell_type": "markdown",
      "metadata": {
        "id": "-c0CzdQB7tpd"
      },
      "source": [
        "3)"
      ]
    },
    {
      "cell_type": "code",
      "metadata": {
        "colab": {
          "base_uri": "https://localhost:8080/"
        },
        "id": "VzrOQ9qg7VAe",
        "outputId": "674f83fe-980e-457e-926c-3e436099748a"
      },
      "source": [
        "mymean1 = 0.2*(sp.special.gamma(2)/sp.special.gamma(3/2))*(sqrt(2))\n",
        "print(mymean1)"
      ],
      "execution_count": 20,
      "outputs": [
        {
          "output_type": "stream",
          "name": "stdout",
          "text": [
            "0.3191538243211462\n"
          ]
        }
      ]
    },
    {
      "cell_type": "code",
      "metadata": {
        "colab": {
          "base_uri": "https://localhost:8080/"
        },
        "id": "VVGVVAA48RFs",
        "outputId": "6121c58f-a308-4c88-e49b-afd95c50292d"
      },
      "source": [
        "mymean2 = 0.6*(sp.special.gamma(2)/sp.special.gamma(3/2))*(sqrt(2))\n",
        "print(mymean2)"
      ],
      "execution_count": 21,
      "outputs": [
        {
          "output_type": "stream",
          "name": "stdout",
          "text": [
            "0.9574614729634384\n"
          ]
        }
      ]
    },
    {
      "cell_type": "code",
      "metadata": {
        "colab": {
          "base_uri": "https://localhost:8080/"
        },
        "id": "9cP40wE9842a",
        "outputId": "638863b3-8e14-4738-81e4-e2c3c1b99cf5"
      },
      "source": [
        "mymean3 = 1*(sp.special.gamma(2)/sp.special.gamma(3/2))*(sqrt(2))\n",
        "print(mymean3)"
      ],
      "execution_count": 22,
      "outputs": [
        {
          "output_type": "stream",
          "name": "stdout",
          "text": [
            "1.5957691216057308\n"
          ]
        }
      ]
    },
    {
      "cell_type": "markdown",
      "metadata": {
        "id": "tbljeubr9Qsz"
      },
      "source": [
        "The calculated means are relatively the same as the corresponding means from the empirical distributions.\n",
        "\n"
      ]
    }
  ]
}
