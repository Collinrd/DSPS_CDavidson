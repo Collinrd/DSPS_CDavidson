{
 "cells": [
  {
   "cell_type": "markdown",
   "metadata": {
    "id": "rm3Jed6NsC11"
   },
   "source": [
    "Collin Davidson\n",
    "\n",
    "---\n",
    "HW 2 Assignment 1\n"
   ]
  },
  {
   "cell_type": "code",
   "execution_count": 1,
   "metadata": {
    "colab": {
     "base_uri": "https://localhost:8080/"
    },
    "id": "51GfDCFhdct1",
    "outputId": "9810358f-130b-4554-aa5d-583e7c28aa4e"
   },
   "outputs": [
    {
     "name": "stdout",
     "output_type": "stream",
     "text": [
      "Populating the interactive namespace from numpy and matplotlib\n"
     ]
    }
   ],
   "source": [
    "from __future__ import print_function, division\n",
    "import numpy as np\n",
    "import scipy as sp\n",
    "from scipy import stats\n",
    "import pylab as pl\n",
    "%pylab inline\n",
    "pl.style.use(\"https://raw.githubusercontent.com/fedhere/DSPS/master/fbb.mplstyle\")"
   ]
  },
  {
   "cell_type": "code",
   "execution_count": 2,
   "metadata": {
    "colab": {
     "base_uri": "https://localhost:8080/",
     "height": 333
    },
    "id": "jmuTYyRJdrQX",
    "outputId": "22b66b33-7f94-447a-88a8-154437f7b2df"
   },
   "outputs": [
    {
     "name": "stderr",
     "output_type": "stream",
     "text": [
      "/Users/home/miniconda3/lib/python3.6/site-packages/matplotlib/font_manager.py:1241: UserWarning: findfont: Font family ['[\"sans-serif\"]'] not found. Falling back to DejaVu Sans.\n",
      "  (prop.get_family(), self.defaultFamily[fontext]))\n"
     ]
    },
    {
     "data": {
      "image/png": "[encoded data removed]",
      "text/plain": [
       "<Figure size 432x288 with 1 Axes>"
      ]
     },
     "metadata": {
      "needs_background": "light"
     },
     "output_type": "display_data"
    }
   ],
   "source": [
    "np.random.randn(123)\n",
    "fig, ax = pl.subplots()\n",
    "for a in [0.2, 0.6, 1.0]:\n",
    "    ax.hist(sp.stats.chi.rvs(df=3, scale=a, size=1000), \n",
    "          bins=np.arange(0,5,0.1), alpha=0.7,\n",
    "       label=\"a = %.1f\"%a);\n",
    "\n",
    "pl.legend();\n",
    "\n",
    "# your code here\n",
    "pl.ylabel('number of particles')\n",
    "pl.xlabel('velocity');\n"
   ]
  },
  {
   "cell_type": "markdown",
   "metadata": {},
   "source": [
    "<h1 style=\"color:red\"> &#10004; </h1>\n"
   ]
  },
  {
   "cell_type": "markdown",
   "metadata": {
    "id": "VizLeoHAKE3r"
   },
   "source": [
    "2) The dependency is on the root of the temperature. a **∝** √T\n",
    "\n"
   ]
  },
  {
   "cell_type": "markdown",
   "metadata": {},
   "source": [
    "<h1 style=\"color:red\"> &#10004; </h1>\n"
   ]
  },
  {
   "cell_type": "markdown",
   "metadata": {
    "id": "-c0CzdQB7tpd"
   },
   "source": [
    "3)"
   ]
  },
  {
   "cell_type": "code",
   "execution_count": 3,
   "metadata": {
    "colab": {
     "base_uri": "https://localhost:8080/"
    },
    "id": "VzrOQ9qg7VAe",
    "outputId": "674f83fe-980e-457e-926c-3e436099748a"
   },
   "outputs": [
    {
     "name": "stdout",
     "output_type": "stream",
     "text": [
      "0.3191538243211462\n"
     ]
    }
   ],
   "source": [
    "mymean1 = 0.2*(sp.special.gamma(2)/sp.special.gamma(3/2))*(sqrt(2))\n",
    "print(mymean1)"
   ]
  },
  {
   "cell_type": "code",
   "execution_count": 4,
   "metadata": {
    "colab": {
     "base_uri": "https://localhost:8080/"
    },
    "id": "VVGVVAA48RFs",
    "outputId": "6121c58f-a308-4c88-e49b-afd95c50292d"
   },
   "outputs": [
    {
     "name": "stdout",
     "output_type": "stream",
     "text": [
      "0.9574614729634384\n"
     ]
    }
   ],
   "source": [
    "mymean2 = 0.6*(sp.special.gamma(2)/sp.special.gamma(3/2))*(sqrt(2))\n",
    "print(mymean2)"
   ]
  },
  {
   "cell_type": "code",
   "execution_count": 5,
   "metadata": {
    "colab": {
     "base_uri": "https://localhost:8080/"
    },
    "id": "9cP40wE9842a",
    "outputId": "638863b3-8e14-4738-81e4-e2c3c1b99cf5"
   },
   "outputs": [
    {
     "name": "stdout",
     "output_type": "stream",
     "text": [
      "1.5957691216057308\n"
     ]
    }
   ],
   "source": [
    "mymean3 = 1*(sp.special.gamma(2)/sp.special.gamma(3/2))*(sqrt(2))\n",
    "print(mymean3)"
   ]
  },
  {
   "cell_type": "markdown",
   "metadata": {
    "id": "tbljeubr9Qsz"
   },
   "source": [
    "The calculated means are relatively the same as the corresponding means from the empirical distributions.\n",
    "\n"
   ]
  },
  {
   "cell_type": "markdown",
   "metadata": {},
   "source": [
    "<span style=\"color:red\"> how does this mean compare to the most probable molecular speed </span>\n"
   ]
  },
  {
   "cell_type": "code",
   "execution_count": null,
   "metadata": {},
   "outputs": [],
   "source": []
  }
 ],
 "metadata": {
  "colab": {
   "name": "HW_2_assignment_1.ipynb",
   "provenance": []
  },
  "kernelspec": {
   "display_name": "Python 3",
   "language": "python",
   "name": "python3"
  },
  "language_info": {
   "codemirror_mode": {
    "name": "ipython",
    "version": 3
   },
   "file_extension": ".py",
   "mimetype": "text/x-python",
   "name": "python",
   "nbconvert_exporter": "python",
   "pygments_lexer": "ipython3",
   "version": "3.6.8"
  }
 },
 "nbformat": 4,
 "nbformat_minor": 1
}
