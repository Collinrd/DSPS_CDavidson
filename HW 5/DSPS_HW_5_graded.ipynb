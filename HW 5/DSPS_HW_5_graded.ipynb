{
 "cells": [
  {
   "cell_type": "code",
   "execution_count": 1,
   "metadata": {
    "id": "Vc0uTsyArZxI"
   },
   "outputs": [],
   "source": [
    "import pandas as pd\n",
    "import numpy as np\n",
    "import matplotlib.pyplot as plt\n",
    "#other imports?\n",
    "from scipy.interpolate import make_interp_spline"
   ]
  },
  {
   "cell_type": "markdown",
   "metadata": {
    "id": "Cn2QOSn3Ev2m"
   },
   "source": [
    "# Exercise 1"
   ]
  },
  {
   "cell_type": "markdown",
   "metadata": {
    "id": "xSha2KCkEyng"
   },
   "source": [
    "Using the standard linear algebra method of this Section, fit\n",
    "the straight line y = m x + b to the x, y, and σy values for data points 5\n",
    "through 20 in Table 1 on page 6. That is, ignore the first four data points,\n",
    "and also ignore the columns for σx and ρxy. Make a plot showing the points,\n",
    "their uncertainties, and the best-fit line. Your plot should end up looking\n",
    "like Figure 1. What is the standard uncertainty variance σ\n",
    "2\n",
    "m on the slope of\n",
    "the line?"
   ]
  },
  {
   "cell_type": "code",
   "execution_count": 2,
   "metadata": {
    "id": "oVvkm7Xhrnt3"
   },
   "outputs": [],
   "source": [
    "Data = pd.read_csv(\"https://raw.githubusercontent.com/fedhere/DSPS_FBianco/master/HW5/hbl2017.csv\")"
   ]
  },
  {
   "cell_type": "code",
   "execution_count": 3,
   "metadata": {
    "colab": {
     "base_uri": "https://localhost:8080/",
     "height": 204
    },
    "id": "Sd6PRbgQNU_Y",
    "outputId": "089e830e-2958-4250-c2e2-f88a4cc9699e"
   },
   "outputs": [
    {
     "data": {
      "text/html": [
       "<div>\n",
       "<style scoped>\n",
       "    .dataframe tbody tr th:only-of-type {\n",
       "        vertical-align: middle;\n",
       "    }\n",
       "\n",
       "    .dataframe tbody tr th {\n",
       "        vertical-align: top;\n",
       "    }\n",
       "\n",
       "    .dataframe thead th {\n",
       "        text-align: right;\n",
       "    }\n",
       "</style>\n",
       "<table border=\"1\" class=\"dataframe\">\n",
       "  <thead>\n",
       "    <tr style=\"text-align: right;\">\n",
       "      <th></th>\n",
       "      <th>#ID</th>\n",
       "      <th>x</th>\n",
       "      <th>y</th>\n",
       "      <th>σy</th>\n",
       "      <th>σx</th>\n",
       "      <th>ρxy</th>\n",
       "    </tr>\n",
       "  </thead>\n",
       "  <tbody>\n",
       "    <tr>\n",
       "      <th>0</th>\n",
       "      <td>1</td>\n",
       "      <td>201</td>\n",
       "      <td>592</td>\n",
       "      <td>61</td>\n",
       "      <td>9</td>\n",
       "      <td>-0.84</td>\n",
       "    </tr>\n",
       "    <tr>\n",
       "      <th>1</th>\n",
       "      <td>2</td>\n",
       "      <td>244</td>\n",
       "      <td>401</td>\n",
       "      <td>25</td>\n",
       "      <td>4</td>\n",
       "      <td>0.31</td>\n",
       "    </tr>\n",
       "    <tr>\n",
       "      <th>2</th>\n",
       "      <td>3</td>\n",
       "      <td>47</td>\n",
       "      <td>583</td>\n",
       "      <td>38</td>\n",
       "      <td>11</td>\n",
       "      <td>0.64</td>\n",
       "    </tr>\n",
       "    <tr>\n",
       "      <th>3</th>\n",
       "      <td>4</td>\n",
       "      <td>287</td>\n",
       "      <td>402</td>\n",
       "      <td>15</td>\n",
       "      <td>7</td>\n",
       "      <td>-0.27</td>\n",
       "    </tr>\n",
       "    <tr>\n",
       "      <th>4</th>\n",
       "      <td>5</td>\n",
       "      <td>203</td>\n",
       "      <td>495</td>\n",
       "      <td>21</td>\n",
       "      <td>5</td>\n",
       "      <td>-0.33</td>\n",
       "    </tr>\n",
       "  </tbody>\n",
       "</table>\n",
       "</div>"
      ],
      "text/plain": [
       "   #ID    x    y  σy  σx   ρxy\n",
       "0    1  201  592  61   9 -0.84\n",
       "1    2  244  401  25   4  0.31\n",
       "2    3   47  583  38  11  0.64\n",
       "3    4  287  402  15   7 -0.27\n",
       "4    5  203  495  21   5 -0.33"
      ]
     },
     "execution_count": 3,
     "metadata": {},
     "output_type": "execute_result"
    }
   ],
   "source": [
    "Data.head()"
   ]
  },
  {
   "cell_type": "code",
   "execution_count": 4,
   "metadata": {
    "id": "JqGZkpKMV_Ls"
   },
   "outputs": [],
   "source": [
    "Data_1 = Data[4:20]"
   ]
  },
  {
   "cell_type": "code",
   "execution_count": 5,
   "metadata": {
    "id": "4yKHGz2cOEG4"
   },
   "outputs": [],
   "source": [
    "DataA1 = Data_1.to_numpy(dtype = None, copy=False)"
   ]
  },
  {
   "cell_type": "code",
   "execution_count": 6,
   "metadata": {
    "id": "86L5rWNWOj9g"
   },
   "outputs": [],
   "source": [
    "#DataA1"
   ]
  },
  {
   "cell_type": "code",
   "execution_count": 7,
   "metadata": {
    "id": "AyPgM-t4P3Bz"
   },
   "outputs": [],
   "source": [
    "def line (x, m, b):\n",
    "  return m * x + b\n"
   ]
  },
  {
   "cell_type": "code",
   "execution_count": 8,
   "metadata": {
    "id": "6Pb6ZvsPRIAc"
   },
   "outputs": [],
   "source": [
    "def makeList (array, col):\n",
    "  List=[]\n",
    "  for i in array:\n",
    "    List.append(i[col])\n",
    "  return List"
   ]
  },
  {
   "cell_type": "code",
   "execution_count": 9,
   "metadata": {
    "id": "KsIt3HbOXatX"
   },
   "outputs": [],
   "source": [
    "def listToArray(List):\n",
    "  Array = []\n",
    "  for i in range(len(List)):\n",
    "    Array.append(List[i])\n",
    "  return Array\n"
   ]
  },
  {
   "cell_type": "code",
   "execution_count": 10,
   "metadata": {
    "id": "k41-oBQcSY5K"
   },
   "outputs": [],
   "source": [
    "def eq3 (List):\n",
    "  arrayA = []\n",
    "  for i in range(len(List)):\n",
    "    arrayA.append([1,List[i]])\n",
    "  return arrayA\n"
   ]
  },
  {
   "cell_type": "code",
   "execution_count": 11,
   "metadata": {
    "id": "GfwH_q_Ffd0A"
   },
   "outputs": [],
   "source": [
    "def eq4 (inArray):\n",
    "  C = np.diag(makeList(inArray,3))\n",
    "  lst = makeList(inArray,3)\n",
    "  for i in range(len(C)):\n",
    "    for j in range(len(C[i])):\n",
    "      C[i][j]=C[i][j]**2\n",
    "  return C"
   ]
  },
  {
   "cell_type": "code",
   "execution_count": 12,
   "metadata": {
    "id": "iKikb9NBUdJ0"
   },
   "outputs": [],
   "source": [
    "matrix_Y1 = makeList(DataA1,2)\n",
    "matrix_A1 = eq3(makeList(DataA1,1))\n",
    "matrix_C1 = eq4(DataA1)\n",
    "\n",
    "matrix_A_t1 = np.transpose(matrix_A1)\n",
    "matrix_C_inv1 = np.linalg.inv(matrix_C1)"
   ]
  },
  {
   "cell_type": "code",
   "execution_count": 13,
   "metadata": {
    "id": "GSSDZTn4Uc7Y"
   },
   "outputs": [],
   "source": [
    "def eq5(y,A,At,C):\n",
    "  Y = listToArray(y) #need list to array function\n",
    "  pt1 = np.linalg.inv( np.dot( np.dot(At,C),A ) )\n",
    "  pt2 = np.dot( np.dot(At,C),Y )\n",
    "  return np.dot(pt1, pt2)"
   ]
  },
  {
   "cell_type": "code",
   "execution_count": 14,
   "metadata": {
    "colab": {
     "base_uri": "https://localhost:8080/"
    },
    "id": "E2rkH5MXWv2Q",
    "outputId": "bcfd7114-480d-4316-8703-22e1b07c804e"
   },
   "outputs": [
    {
     "data": {
      "text/plain": [
       "array([34.04772776,  2.23992083])"
      ]
     },
     "execution_count": 14,
     "metadata": {},
     "output_type": "execute_result"
    }
   ],
   "source": [
    "eq5(matrix_Y1,matrix_A1,matrix_A_t1,matrix_C_inv1)"
   ]
  },
  {
   "cell_type": "code",
   "execution_count": 15,
   "metadata": {
    "colab": {
     "base_uri": "https://localhost:8080/",
     "height": 296
    },
    "id": "FDf0jk7MWg0z",
    "outputId": "5153d723-5588-405e-9105-bcccc7904dcf"
   },
   "outputs": [
    {
     "data": {
      "text/plain": [
       "Text(0, 0.5, 'y')"
      ]
     },
     "execution_count": 15,
     "metadata": {},
     "output_type": "execute_result"
    },
    {
     "data": {
      "image/png": "[encoded data removed]",
      "text/plain": [
       "<Figure size 432x288 with 1 Axes>"
      ]
     },
     "metadata": {
      "needs_background": "light"
     },
     "output_type": "display_data"
    }
   ],
   "source": [
    "#plotting\n",
    "x = Data_1.x.values\n",
    "y = Data_1.y.values\n",
    "yerr = Data_1.σy.values\n",
    "\n",
    "plt.errorbar(x, y, yerr,fmt=\"o\")\n",
    "plt.plot(x, 2.23992083 * x + 34.04772776, \"k\", lw=2)\n",
    "\n",
    "plt.xlabel(\"x\")\n",
    "plt.ylabel(\"y\")"
   ]
  },
  {
   "cell_type": "markdown",
   "metadata": {
    "id": "qiHhStLMcRPF"
   },
   "source": [
    "The x,y points and their uncertainties from rows 5 to 20 in Table 1 are plotted above. The line is the \"best fit\" linear equation with m and b values found through the standard linear algebra method of section 1 in HoggBoveyLang2017."
   ]
  },
  {
   "cell_type": "code",
   "execution_count": 16,
   "metadata": {
    "id": "uN75t6trjUNZ"
   },
   "outputs": [],
   "source": [
    "matrix_cov1 = np.linalg.inv( np.dot( np.dot(matrix_A_t1,matrix_C_inv1),matrix_A1 ) )"
   ]
  },
  {
   "cell_type": "code",
   "execution_count": 17,
   "metadata": {
    "colab": {
     "base_uri": "https://localhost:8080/"
    },
    "id": "r8cFqqYqfdFL",
    "outputId": "908552aa-ea6f-4d45-dffb-7ea09a4d5d53"
   },
   "outputs": [
    {
     "data": {
      "text/plain": [
       "array([[ 3.32922601e+02, -1.88954491e+00],\n",
       "       [-1.88954491e+00,  1.16166311e-02]])"
      ]
     },
     "execution_count": 17,
     "metadata": {},
     "output_type": "execute_result"
    }
   ],
   "source": [
    "matrix_cov1"
   ]
  },
  {
   "cell_type": "markdown",
   "metadata": {
    "id": "Os9kFRv2MJpK"
   },
   "source": [
    "standard uncertainty variance on the slope of the line = 1.16e-2"
   ]
  },
  {
   "cell_type": "markdown",
   "metadata": {
    "id": "NRypQzY9f_Zd"
   },
   "source": [
    "# Exercise 2"
   ]
  },
  {
   "cell_type": "markdown",
   "metadata": {
    "id": "8R1DblQwgCNY"
   },
   "source": [
    "Repeat Exercise 1 but for all the data points in Table 1 on\n",
    "page 6. Your plot should end up looking like Figure 2. What is the standard\n",
    "uncertainty variance σ\n",
    "2\n",
    "m on the slope of the line? Is there anything you don’t\n",
    "like about the result? Is there anything different about the new points you\n",
    "have included beyond those used in Exercise 1?"
   ]
  },
  {
   "cell_type": "code",
   "execution_count": 18,
   "metadata": {
    "id": "Hpq1WZTEfeMr"
   },
   "outputs": [],
   "source": [
    "DataA2 = Data.to_numpy(dtype = None, copy=False)"
   ]
  },
  {
   "cell_type": "code",
   "execution_count": 19,
   "metadata": {
    "id": "GSJ2XLR9gTBH"
   },
   "outputs": [],
   "source": [
    "matrix_Y2 = makeList(DataA2,2)\n",
    "matrix_A2 = eq3(makeList(DataA2,1))\n",
    "matrix_C2 = eq4(DataA2)\n",
    "\n",
    "matrix_A_t2 = np.transpose(matrix_A2)\n",
    "matrix_C_inv2 = np.linalg.inv(matrix_C2)"
   ]
  },
  {
   "cell_type": "code",
   "execution_count": 20,
   "metadata": {
    "colab": {
     "base_uri": "https://localhost:8080/"
    },
    "id": "4TQheZmjggNy",
    "outputId": "73a779d0-12d8-4439-dc28-1afd36cd6dc0"
   },
   "outputs": [
    {
     "data": {
      "text/plain": [
       "array([213.27349198,   1.07674752])"
      ]
     },
     "execution_count": 20,
     "metadata": {},
     "output_type": "execute_result"
    }
   ],
   "source": [
    "eq5(matrix_Y2,matrix_A2,matrix_A_t2,matrix_C_inv2)"
   ]
  },
  {
   "cell_type": "code",
   "execution_count": 21,
   "metadata": {
    "colab": {
     "base_uri": "https://localhost:8080/",
     "height": 296
    },
    "id": "GeKWR86sgl41",
    "outputId": "0caea0ca-3cab-4c69-c8c0-24b9df7de7e8"
   },
   "outputs": [
    {
     "data": {
      "text/plain": [
       "Text(0, 0.5, 'y')"
      ]
     },
     "execution_count": 21,
     "metadata": {},
     "output_type": "execute_result"
    },
    {
     "data": {
      "image/png": "[encoded data removed]",
      "text/plain": [
       "<Figure size 432x288 with 1 Axes>"
      ]
     },
     "metadata": {
      "needs_background": "light"
     },
     "output_type": "display_data"
    }
   ],
   "source": [
    "#plotting\n",
    "x = Data.x.values\n",
    "y = Data.y.values\n",
    "yerr = Data.σy.values\n",
    "\n",
    "plt.errorbar(x, y, yerr,fmt=\"o\")\n",
    "plt.plot(x, 1.07674752 * x + 213.27349198, \"k\", lw=2)\n",
    "plt.xlabel(\"x\")\n",
    "plt.ylabel(\"y\")"
   ]
  },
  {
   "cell_type": "markdown",
   "metadata": {
    "id": "_u1KLxRHiONp"
   },
   "source": [
    "The x,y points and their uncertainties plotted above include all the data points in Table 1. The line is the \"best fit\" linear equation found again through the 'standard linear algebra' method. The result is less in line with the bulk of the data points than in exercise 1. The new points are outlying points significantly different in x and y. These are skewing the line of fit to have a smaller slope."
   ]
  },
  {
   "cell_type": "code",
   "execution_count": 22,
   "metadata": {
    "id": "vBv37pIVg3J4"
   },
   "outputs": [],
   "source": [
    "matrix_cov2 = np.linalg.inv( np.dot( np.dot(matrix_A_t2,matrix_C_inv2),matrix_A2 ) )"
   ]
  },
  {
   "cell_type": "code",
   "execution_count": 23,
   "metadata": {
    "colab": {
     "base_uri": "https://localhost:8080/"
    },
    "id": "kfQg1pU7iSv_",
    "outputId": "d7551d82-24d7-4390-c46c-0f5e29f9e590"
   },
   "outputs": [
    {
     "data": {
      "text/plain": [
       "array([[ 2.07188189e+02, -1.05427206e+00],\n",
       "       [-1.05427206e+00,  5.99181008e-03]])"
      ]
     },
     "execution_count": 23,
     "metadata": {},
     "output_type": "execute_result"
    }
   ],
   "source": [
    "matrix_cov2"
   ]
  },
  {
   "cell_type": "markdown",
   "metadata": {
    "id": "_qhzVOtYLrRf"
   },
   "source": [
    "standard uncertainty variance on the slope of the line = 5.99e-3"
   ]
  },
  {
   "cell_type": "markdown",
   "metadata": {
    "id": "5Pzk_02kjjTA"
   },
   "source": [
    "# Exercise 3"
   ]
  },
  {
   "cell_type": "markdown",
   "metadata": {
    "id": "th2ObIHBjmTd"
   },
   "source": [
    "Generalize the method of this Section to fit a general quadratic\n",
    "(second order) relationship. Add another column to matrix A containing the\n",
    "values x\n",
    "2\n",
    "i\n",
    ", and another element to vector X (call it q). Then re-do Exercise 1\n",
    "but fitting for and plotting the best quadratic relationship\n",
    "g(x) = q x2 + m x + b"
   ]
  },
  {
   "cell_type": "code",
   "execution_count": 24,
   "metadata": {
    "id": "5hlyZskLMy8v"
   },
   "outputs": [],
   "source": [
    "def eq3_qua (List):\n",
    "  arrayA = []\n",
    "  for i in range(len(List)):\n",
    "    arrayA.append([1,List[i],List[i]**2])\n",
    "  return arrayA"
   ]
  },
  {
   "cell_type": "code",
   "execution_count": 25,
   "metadata": {
    "id": "FoELGLEcNG9x"
   },
   "outputs": [],
   "source": [
    "matrix_A3 = eq3_qua(makeList(DataA1,1))"
   ]
  },
  {
   "cell_type": "code",
   "execution_count": 26,
   "metadata": {
    "colab": {
     "base_uri": "https://localhost:8080/"
    },
    "id": "Fk_aHFsPNNVQ",
    "outputId": "e52748bf-8bdd-43f8-e743-afc3778f8e78"
   },
   "outputs": [
    {
     "data": {
      "text/plain": [
       "[[1, 203.0, 41209.0],\n",
       " [1, 58.0, 3364.0],\n",
       " [1, 210.0, 44100.0],\n",
       " [1, 202.0, 40804.0],\n",
       " [1, 198.0, 39204.0],\n",
       " [1, 158.0, 24964.0],\n",
       " [1, 165.0, 27225.0],\n",
       " [1, 201.0, 40401.0],\n",
       " [1, 157.0, 24649.0],\n",
       " [1, 131.0, 17161.0],\n",
       " [1, 166.0, 27556.0],\n",
       " [1, 160.0, 25600.0],\n",
       " [1, 186.0, 34596.0],\n",
       " [1, 125.0, 15625.0],\n",
       " [1, 218.0, 47524.0],\n",
       " [1, 146.0, 21316.0]]"
      ]
     },
     "execution_count": 26,
     "metadata": {},
     "output_type": "execute_result"
    }
   ],
   "source": [
    "matrix_A3"
   ]
  },
  {
   "cell_type": "code",
   "execution_count": 27,
   "metadata": {
    "id": "pdWB-zaiNOqi"
   },
   "outputs": [],
   "source": [
    "matrix_Y3 = makeList(DataA1,2)\n",
    "matrix_C3 = eq4(DataA1)\n",
    "\n",
    "matrix_A_t3 = np.transpose(matrix_A3)\n",
    "matrix_C_inv3 = np.linalg.inv(matrix_C3)"
   ]
  },
  {
   "cell_type": "code",
   "execution_count": 28,
   "metadata": {
    "colab": {
     "base_uri": "https://localhost:8080/"
    },
    "id": "BKB4XBjBOH36",
    "outputId": "8ff81373-8cef-4805-f7f9-be421eb96df2"
   },
   "outputs": [
    {
     "data": {
      "text/plain": [
       "array([7.28946265e+01, 1.59605045e+00, 2.29888841e-03])"
      ]
     },
     "execution_count": 28,
     "metadata": {},
     "output_type": "execute_result"
    }
   ],
   "source": [
    "eq5(matrix_Y3,matrix_A3,matrix_A_t3,matrix_C_inv3)"
   ]
  },
  {
   "cell_type": "code",
   "execution_count": 29,
   "metadata": {
    "colab": {
     "base_uri": "https://localhost:8080/",
     "height": 300
    },
    "id": "wT8s1mQYONhj",
    "outputId": "82c80d8a-8417-42f8-ae5a-6b2035c72a1a"
   },
   "outputs": [
    {
     "data": {
      "text/plain": [
       "Text(0, 0.5, 'y')"
      ]
     },
     "execution_count": 29,
     "metadata": {},
     "output_type": "execute_result"
    },
    {
     "data": {
      "image/png": "[encoded data removed]",
      "text/plain": [
       "<Figure size 432x288 with 1 Axes>"
      ]
     },
     "metadata": {
      "needs_background": "light"
     },
     "output_type": "display_data"
    }
   ],
   "source": [
    "x = Data_1.x.values\n",
    "y = Data_1.y.values\n",
    "yerr = Data_1.σy.values\n",
    "\n",
    "plt.errorbar(x, y, yerr,fmt=\"o\")\n",
    "\n",
    "x_ = np.array([1,2,3,4,5,6,7,8,9])\n",
    "X_Y_Spline = make_interp_spline(x_, 0.002298 * x_**2 + 1.59 * x_ + 72.89)\n",
    " \n",
    "X_ = np.linspace(0, 300, 500)\n",
    "Y_ = X_Y_Spline(X_)\n",
    "\n",
    "plt.plot(X_, Y_)\n",
    "plt.ylim(0,700)\n",
    "plt.xlim(0,300)\n",
    "plt.xlabel(\"x\")\n",
    "plt.ylabel(\"y\")"
   ]
  },
  {
   "cell_type": "markdown",
   "metadata": {
    "id": "R1qQtRGeV7gc"
   },
   "source": [
    "The plotted x,y values and their uncertainties are the same data points used in Exercise 1. The quadratic function displayed is the 'best quadratic relationship' found through the linear algebra method, but altered slightly to find the constant multiplying the x^2 term. "
   ]
  },
  {
   "cell_type": "markdown",
   "metadata": {
    "id": "kaEeswEjV_lX"
   },
   "source": [
    "# Exercise 4"
   ]
  },
  {
   "cell_type": "markdown",
   "metadata": {
    "id": "S4LfsQ6lc8Wm"
   },
   "source": [
    "Imagine a set of N measurements ti\n",
    ", with uncertainty variances σ\n",
    "2\n",
    "ti, all of the same (unknown) quantity T. Assuming the generative\n",
    "model that each ti differs from T by a Gaussian-distributed offset, taken from\n",
    "a Gaussian with zero mean and variance σ\n",
    "2\n",
    "ti, write down an expression for\n",
    "the log likelihood ln L for the data given the model parameter T. "
   ]
  },
  {
   "cell_type": "markdown",
   "metadata": {
    "id": "4momPaEC2ZT1"
   },
   "source": [
    "$ln \\mathscr{L} = K - \\sum\\limits_{i=1}^N \\frac{[t_i-T]^2}{2\\sigma_{t_i}^2}$\n",
    "\n",
    "**How this was obtained**: expression obtained from $(11)$ in the [HoggBoveyLang2017](https://cosmo.nyu.edu/hogg/research/2010/08/17/straightline.pdf) file and replacing $y_i$ with $t_i$, and the model trend line equation ($mx_i+b$) with the model parameter ($T$)\n",
    "\n",
    "$\\mathscr{L}$ is the likelyhood of conditional probabilities\n",
    "\n",
    "$K$ is a constant\n",
    "\n",
    "$t_i$ is a singular dependant measurement\n",
    "\n",
    "$T$ is the model parameter (the expected value of $t_i$ if it was identical to the model's prediction)\n",
    "\n",
    "$N$ is the number of measurements\n",
    "\n",
    "$\\sigma_{t_i}^2$ are the uncertanty variances at each $t_i$ measurement\n",
    "\n",
    "\n"
   ]
  },
  {
   "cell_type": "markdown",
   "metadata": {},
   "source": [
    "---"
   ]
  },
  {
   "cell_type": "markdown",
   "metadata": {},
   "source": [
    "<h1 style=\"color:red\"> Great !</h1>\n"
   ]
  }
 ],
 "metadata": {
  "colab": {
   "collapsed_sections": [],
   "name": "DSPS_HW_5.ipynb",
   "provenance": []
  },
  "kernelspec": {
   "display_name": "Python 3",
   "language": "python",
   "name": "python3"
  },
  "language_info": {
   "codemirror_mode": {
    "name": "ipython",
    "version": 3
   },
   "file_extension": ".py",
   "mimetype": "text/x-python",
   "name": "python",
   "nbconvert_exporter": "python",
   "pygments_lexer": "ipython3",
   "version": "3.6.8"
  }
 },
 "nbformat": 4,
 "nbformat_minor": 1
}
