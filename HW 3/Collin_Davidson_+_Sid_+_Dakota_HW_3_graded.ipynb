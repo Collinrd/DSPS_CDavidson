{
 "cells": [
  {
   "cell_type": "markdown",
   "metadata": {
    "id": "Uk3iBT7phXry"
   },
   "source": [
    "Created by FedericaBBianco @fedhere for DSPS/MLNPS\n",
    "# Kolmogorov Smirnoff test, application to earthquake data"
   ]
  },
  {
   "cell_type": "code",
   "execution_count": 1,
   "metadata": {
    "ExecuteTime": {
     "end_time": "2019-09-09T01:40:01.895798Z",
     "start_time": "2019-09-09T01:40:01.890474Z"
    },
    "colab": {
     "base_uri": "https://localhost:8080/"
    },
    "id": "LS78mdVthXrz",
    "outputId": "6b974963-3867-4ba1-caaf-3978d4e4cb5c"
   },
   "outputs": [
    {
     "name": "stdout",
     "output_type": "stream",
     "text": [
      "Populating the interactive namespace from numpy and matplotlib\n"
     ]
    },
    {
     "name": "stderr",
     "output_type": "stream",
     "text": [
      "/Users/home/miniconda3/lib/python3.6/site-packages/IPython/core/magics/pylab.py:160: UserWarning: pylab import has clobbered these variables: ['plt']\n",
      "`%matplotlib` prevents importing * from pylab and numpy\n",
      "  \"\\n`%matplotlib` prevents importing * from pylab and numpy\"\n"
     ]
    }
   ],
   "source": [
    "#all the imports I needed\n",
    "from __future__ import print_function, division\n",
    "import pandas as pd\n",
    "import pylab as plt\n",
    "import scipy as sp\n",
    "from scipy import stats\n",
    "%pylab inline\n",
    "#plt.style.use(\"https://raw.githubusercontent.com/fedhere/DSPS/master/fbb.mplstyle\")"
   ]
  },
  {
   "cell_type": "markdown",
   "metadata": {
    "id": "SvIJHRyuhXr2"
   },
   "source": [
    "This homework asks you to reproduce the work in [Corral 2018](https://arxiv.org/pdf/0910.0055.pdf) which is well described, but not \"reproducible\". \n",
    "Corral 2018 uses a K-S test to show that at different magnitude scales the time gaps between earthquakes follows the same distribution. If true, this indicates that there is a consistent scaling law. \n",
    "\n",
    "The argument is a little convoluted, but it is a somewhat innovative use of the test. Corall compares the time gap between earthquakes  greater than a certain magnitude threshold with the time gaps between earthquakes above a different threshold, and finds no differences.\n",
    "\n",
    "Remind yourself exactly what the K-S test is about :\n",
    "\n",
    "    1 What is the test's Null Hypothsis that the K-S test tests?\n",
    "    \n",
    "    \n"
   ]
  },
  {
   "cell_type": "markdown",
   "metadata": {
    "id": "y8DJjYrthXr3"
   },
   "source": [
    "The null hypothesis is that both data sets have the same distribution. the null hypothesis is rejected if the maximum difference between the 2 distributions is sufficiently large.\n"
   ]
  },
  {
   "cell_type": "markdown",
   "metadata": {},
   "source": [
    "<h1 style=\"color:red\"> &#10004; </h1>\n"
   ]
  },
  {
   "cell_type": "markdown",
   "metadata": {
    "id": "V8T9XH7nhXr3"
   },
   "source": [
    "    2 What is the \"statistic\" or \"pivotal quantity\" that the test uses?\n",
    "    \n"
   ]
  },
  {
   "cell_type": "markdown",
   "metadata": {
    "ExecuteTime": {
     "end_time": "2019-09-08T21:14:09.757045Z",
     "start_time": "2019-09-08T21:14:09.753882Z"
    },
    "id": "jSSktfhAhXr4"
   },
   "source": [
    "The statistic/pivotal quantity in the ks test is that maximum difference between the 2 data sets.\n",
    "\n",
    "\n"
   ]
  },
  {
   "cell_type": "markdown",
   "metadata": {},
   "source": [
    "<h1 style=\"color:red\"> between culumative distribution </h1>\n"
   ]
  },
  {
   "cell_type": "markdown",
   "metadata": {
    "ExecuteTime": {
     "end_time": "2019-09-08T21:14:43.709157Z",
     "start_time": "2019-09-08T21:14:43.704734Z"
    },
    "id": "IYoQgG1BhXr4"
   },
   "source": [
    "    3 What does the probability distribution of this statistic depend on? \n",
    "    \n",
    "   \n"
   ]
  },
  {
   "cell_type": "markdown",
   "metadata": {
    "id": "ak74uTIrhXr5"
   },
   "source": [
    "The probability distribution of the statistic depends on the sample size of each data set.\n",
    "\n",
    "\n",
    "    "
   ]
  },
  {
   "cell_type": "markdown",
   "metadata": {},
   "source": [
    "<h1 style=\"color:red\"> &#10004; </h1>\n"
   ]
  },
  {
   "cell_type": "markdown",
   "metadata": {
    "id": "M-h5uhgfhXr6"
   },
   "source": [
    "# Data Retrival"
   ]
  },
  {
   "cell_type": "markdown",
   "metadata": {
    "id": "7TW_8XaNhXr6"
   },
   "source": [
    "The first reason why the paper is not techincally _reproducible_ is that, while a link is provided to retrieve the data, the link is dead. This happens often. Services like [Zenodo](https://zenodo.org/) or journals that serve data provide some insurance against this but unfortunately the standards are not strict. "
   ]
  },
  {
   "cell_type": "markdown",
   "metadata": {
    "id": "Bt6gDmQJhXr7"
   },
   "source": [
    "You can retrieve the data yourself from [this website](http://service.scedc.caltech.edu/eq-catalogs/poly.php). Think about what setting up data like this means for reproducibility. Did the author comply to reproducibility standards?__ Make sure the number of entries in your final dataset is similar to that of the authors. I got 70798, instead of 77000. 10% off, which I deem close enough. You should get something similar. Use the map in the paper to determine the region of interest. Call the file earthquakes_\\<firstinitialLastname\\>.csv and upload it to your github repository. Read it your file, instead of mine as instructed below. If you are getting weird results compare to what I got, go back and check how the files differ."
   ]
  },
  {
   "cell_type": "markdown",
   "metadata": {
    "id": "eCiLW1AuhXr7"
   },
   "source": [
    "# Data Ingestion"
   ]
  },
  {
   "cell_type": "markdown",
   "metadata": {
    "id": "FH0X7d9_hXr8"
   },
   "source": [
    "## read in data"
   ]
  },
  {
   "cell_type": "markdown",
   "metadata": {
    "id": "XbMPVaK-hXr9"
   },
   "source": [
    "I saved the data in a file called \"earthquakes.csv\", where ```csv``` stands for \"comma separated file\". [This file format](https://www.howtogeek.com/348960/what-is-a-csv-file-and-how-do-i-open-it/) requires different entries in a row to be separated by commas alone (no space) and for commas to be used in quote if they are not intended to separate entries. \n",
    "\n",
    "```\n",
    "a,b,c\n",
    "d,e,f\n",
    "g,\"h,2\",i\n",
    "```\n",
    "The data is uploaded on the  github homework repository but to read it in you will need to get the link to the *raw file*: the link to the file earthquakes.csv which is in my GitHub repository https://github.com/fedhere/MLPNS2021/tree/main/HW2_NHRT takes you to an ```html``` page that includes the content of the file, but you want to isolate the content of the file itself: the _raw file_. Pay attention to this: from the next time I will not give you the exact link, I will just point you to the file and you will have to find the link to the raw data from there. (remember to use the \"raw\" link)\n",
    "\n",
    "The data can be read effectively using the _pandas_ python package as ```pandas.read_csv(<file name or URL>)```. \n",
    "\n",
    "However, I did not format the data correctly, according to the csv extension requirement. This happens all the time. Look at the file and use the pandas documentation to figure out how to read it with ```pd.read_csv()```"
   ]
  },
  {
   "cell_type": "code",
   "execution_count": 2,
   "metadata": {
    "ExecuteTime": {
     "end_time": "2019-09-09T01:40:02.638703Z",
     "start_time": "2019-09-09T01:40:02.454643Z"
    },
    "id": "hOEZafxahXr9"
   },
   "outputs": [],
   "source": [
    "eqdata = pd.read_csv(\"https://raw.githubusercontent.com/fedhere/DSPS_FBianco/master/HW3/earthquakes.csv\", sep=\" \")"
   ]
  },
  {
   "cell_type": "markdown",
   "metadata": {
    "id": "r0IW9m4vhXr_"
   },
   "source": [
    "running the following lines of code should give you the same result as mine if you used the file I provided (467 students), and qualitatively  similar if you are using your own data (667 students)"
   ]
  },
  {
   "cell_type": "code",
   "execution_count": 3,
   "metadata": {
    "ExecuteTime": {
     "end_time": "2019-09-09T01:40:02.643428Z",
     "start_time": "2019-09-09T01:40:02.640847Z"
    },
    "colab": {
     "base_uri": "https://localhost:8080/"
    },
    "id": "uphAqv5ZhXsA",
    "outputId": "35f14b51-c7a7-41bc-dc8a-4c8d58767c80"
   },
   "outputs": [
    {
     "data": {
      "text/plain": [
       "(70798, 34)"
      ]
     },
     "execution_count": 3,
     "metadata": {},
     "output_type": "execute_result"
    }
   ],
   "source": [
    "eqdata.shape"
   ]
  },
  {
   "cell_type": "code",
   "execution_count": null,
   "metadata": {
    "ExecuteTime": {
     "end_time": "2019-09-09T01:40:02.661139Z",
     "start_time": "2019-09-09T01:40:02.644720Z"
    },
    "colab": {
     "base_uri": "https://localhost:8080/",
     "height": 241
    },
    "id": "9CHqm426hXsC",
    "outputId": "84eeea44-4f31-4dfb-dc9d-469360cf14dc"
   },
   "outputs": [
    {
     "data": {
      "text/html": [
       "<div>\n",
       "<style scoped>\n",
       "    .dataframe tbody tr th:only-of-type {\n",
       "        vertical-align: middle;\n",
       "    }\n",
       "\n",
       "    .dataframe tbody tr th {\n",
       "        vertical-align: top;\n",
       "    }\n",
       "\n",
       "    .dataframe thead th {\n",
       "        text-align: right;\n",
       "    }\n",
       "</style>\n",
       "<table border=\"1\" class=\"dataframe\">\n",
       "  <thead>\n",
       "    <tr style=\"text-align: right;\">\n",
       "      <th></th>\n",
       "      <th>#YYY/MM/DD</th>\n",
       "      <th>HH:mm:SS.ss</th>\n",
       "      <th>ET</th>\n",
       "      <th>GT</th>\n",
       "      <th>MAG</th>\n",
       "      <th>Unnamed: 5</th>\n",
       "      <th>M</th>\n",
       "      <th>Unnamed: 7</th>\n",
       "      <th>Unnamed: 8</th>\n",
       "      <th>Unnamed: 9</th>\n",
       "      <th>LAT</th>\n",
       "      <th>Unnamed: 11</th>\n",
       "      <th>Unnamed: 12</th>\n",
       "      <th>Unnamed: 13</th>\n",
       "      <th>Unnamed: 14</th>\n",
       "      <th>Unnamed: 15</th>\n",
       "      <th>Unnamed: 16</th>\n",
       "      <th>LON</th>\n",
       "      <th>Unnamed: 18</th>\n",
       "      <th>Unnamed: 19</th>\n",
       "      <th>Unnamed: 20</th>\n",
       "      <th>Unnamed: 21</th>\n",
       "      <th>Unnamed: 22</th>\n",
       "      <th>DEPTH</th>\n",
       "      <th>Q</th>\n",
       "      <th>Unnamed: 25</th>\n",
       "      <th>EVID</th>\n",
       "      <th>Unnamed: 27</th>\n",
       "      <th>Unnamed: 28</th>\n",
       "      <th>Unnamed: 29</th>\n",
       "      <th>Unnamed: 30</th>\n",
       "      <th>Unnamed: 31</th>\n",
       "      <th>NPH</th>\n",
       "      <th>NGRM</th>\n",
       "    </tr>\n",
       "  </thead>\n",
       "  <tbody>\n",
       "    <tr>\n",
       "      <th>0</th>\n",
       "      <td>1984/01/01</td>\n",
       "      <td>01:30:57.52</td>\n",
       "      <td>eq</td>\n",
       "      <td>NaN</td>\n",
       "      <td>l</td>\n",
       "      <td>2.02</td>\n",
       "      <td>c</td>\n",
       "      <td>NaN</td>\n",
       "      <td>NaN</td>\n",
       "      <td>33.246</td>\n",
       "      <td>-116.433</td>\n",
       "      <td>NaN</td>\n",
       "      <td>NaN</td>\n",
       "      <td>1.6</td>\n",
       "      <td>C</td>\n",
       "      <td>NaN</td>\n",
       "      <td>NaN</td>\n",
       "      <td>NaN</td>\n",
       "      <td>28255.0</td>\n",
       "      <td>NaN</td>\n",
       "      <td>NaN</td>\n",
       "      <td>13.0</td>\n",
       "      <td>NaN</td>\n",
       "      <td>NaN</td>\n",
       "      <td>17.0</td>\n",
       "      <td>NaN</td>\n",
       "      <td>NaN</td>\n",
       "      <td>NaN</td>\n",
       "      <td>NaN</td>\n",
       "      <td>NaN</td>\n",
       "      <td>NaN</td>\n",
       "      <td>NaN</td>\n",
       "      <td>NaN</td>\n",
       "      <td>NaN</td>\n",
       "    </tr>\n",
       "    <tr>\n",
       "      <th>1</th>\n",
       "      <td>1984/01/01</td>\n",
       "      <td>05:31:34.16</td>\n",
       "      <td>eq</td>\n",
       "      <td>NaN</td>\n",
       "      <td>l</td>\n",
       "      <td>2.12</td>\n",
       "      <td>c</td>\n",
       "      <td>NaN</td>\n",
       "      <td>NaN</td>\n",
       "      <td>32.945</td>\n",
       "      <td>-116.295</td>\n",
       "      <td>NaN</td>\n",
       "      <td>NaN</td>\n",
       "      <td>5.4</td>\n",
       "      <td>C</td>\n",
       "      <td>NaN</td>\n",
       "      <td>NaN</td>\n",
       "      <td>NaN</td>\n",
       "      <td>28259.0</td>\n",
       "      <td>NaN</td>\n",
       "      <td>NaN</td>\n",
       "      <td>18.0</td>\n",
       "      <td>NaN</td>\n",
       "      <td>NaN</td>\n",
       "      <td>42.0</td>\n",
       "      <td>NaN</td>\n",
       "      <td>NaN</td>\n",
       "      <td>NaN</td>\n",
       "      <td>NaN</td>\n",
       "      <td>NaN</td>\n",
       "      <td>NaN</td>\n",
       "      <td>NaN</td>\n",
       "      <td>NaN</td>\n",
       "      <td>NaN</td>\n",
       "    </tr>\n",
       "    <tr>\n",
       "      <th>2</th>\n",
       "      <td>1984/01/01</td>\n",
       "      <td>06:59:05.14</td>\n",
       "      <td>eq</td>\n",
       "      <td>NaN</td>\n",
       "      <td>l</td>\n",
       "      <td>2.43</td>\n",
       "      <td>c</td>\n",
       "      <td>NaN</td>\n",
       "      <td>NaN</td>\n",
       "      <td>33.343</td>\n",
       "      <td>-117.628</td>\n",
       "      <td>NaN</td>\n",
       "      <td>NaN</td>\n",
       "      <td>5.6</td>\n",
       "      <td>C</td>\n",
       "      <td>NaN</td>\n",
       "      <td>NaN</td>\n",
       "      <td>NaN</td>\n",
       "      <td>28260.0</td>\n",
       "      <td>NaN</td>\n",
       "      <td>NaN</td>\n",
       "      <td>13.0</td>\n",
       "      <td>NaN</td>\n",
       "      <td>NaN</td>\n",
       "      <td>30.0</td>\n",
       "      <td>NaN</td>\n",
       "      <td>NaN</td>\n",
       "      <td>NaN</td>\n",
       "      <td>NaN</td>\n",
       "      <td>NaN</td>\n",
       "      <td>NaN</td>\n",
       "      <td>NaN</td>\n",
       "      <td>NaN</td>\n",
       "      <td>NaN</td>\n",
       "    </tr>\n",
       "    <tr>\n",
       "      <th>3</th>\n",
       "      <td>1984/01/01</td>\n",
       "      <td>11:10:25.29</td>\n",
       "      <td>eq</td>\n",
       "      <td>NaN</td>\n",
       "      <td>l</td>\n",
       "      <td>2.07</td>\n",
       "      <td>c</td>\n",
       "      <td>NaN</td>\n",
       "      <td>NaN</td>\n",
       "      <td>33.668</td>\n",
       "      <td>-116.780</td>\n",
       "      <td>NaN</td>\n",
       "      <td>13.8</td>\n",
       "      <td>C</td>\n",
       "      <td>NaN</td>\n",
       "      <td>NaN</td>\n",
       "      <td>NaN</td>\n",
       "      <td>28270.0</td>\n",
       "      <td>NaN</td>\n",
       "      <td>NaN</td>\n",
       "      <td>19.0</td>\n",
       "      <td>NaN</td>\n",
       "      <td>NaN</td>\n",
       "      <td>40.0</td>\n",
       "      <td>NaN</td>\n",
       "      <td>NaN</td>\n",
       "      <td>NaN</td>\n",
       "      <td>NaN</td>\n",
       "      <td>NaN</td>\n",
       "      <td>NaN</td>\n",
       "      <td>NaN</td>\n",
       "      <td>NaN</td>\n",
       "      <td>NaN</td>\n",
       "      <td>NaN</td>\n",
       "    </tr>\n",
       "    <tr>\n",
       "      <th>4</th>\n",
       "      <td>1984/01/01</td>\n",
       "      <td>19:38:19.79</td>\n",
       "      <td>eq</td>\n",
       "      <td>NaN</td>\n",
       "      <td>l</td>\n",
       "      <td>2.13</td>\n",
       "      <td>c</td>\n",
       "      <td>NaN</td>\n",
       "      <td>NaN</td>\n",
       "      <td>33.963</td>\n",
       "      <td>-116.290</td>\n",
       "      <td>NaN</td>\n",
       "      <td>NaN</td>\n",
       "      <td>2.7</td>\n",
       "      <td>C</td>\n",
       "      <td>NaN</td>\n",
       "      <td>NaN</td>\n",
       "      <td>NaN</td>\n",
       "      <td>28553.0</td>\n",
       "      <td>NaN</td>\n",
       "      <td>NaN</td>\n",
       "      <td>40.0</td>\n",
       "      <td>NaN</td>\n",
       "      <td>NaN</td>\n",
       "      <td>49.0</td>\n",
       "      <td>NaN</td>\n",
       "      <td>NaN</td>\n",
       "      <td>NaN</td>\n",
       "      <td>NaN</td>\n",
       "      <td>NaN</td>\n",
       "      <td>NaN</td>\n",
       "      <td>NaN</td>\n",
       "      <td>NaN</td>\n",
       "      <td>NaN</td>\n",
       "    </tr>\n",
       "  </tbody>\n",
       "</table>\n",
       "</div>"
      ],
      "text/plain": [
       "   #YYY/MM/DD  HH:mm:SS.ss  ET  GT  ... Unnamed: 30  Unnamed: 31 NPH  NGRM\n",
       "0  1984/01/01  01:30:57.52  eq NaN  ...         NaN          NaN NaN   NaN\n",
       "1  1984/01/01  05:31:34.16  eq NaN  ...         NaN          NaN NaN   NaN\n",
       "2  1984/01/01  06:59:05.14  eq NaN  ...         NaN          NaN NaN   NaN\n",
       "3  1984/01/01  11:10:25.29  eq NaN  ...         NaN          NaN NaN   NaN\n",
       "4  1984/01/01  19:38:19.79  eq NaN  ...         NaN          NaN NaN   NaN\n",
       "\n",
       "[5 rows x 34 columns]"
      ]
     },
     "execution_count": 35,
     "metadata": {},
     "output_type": "execute_result"
    }
   ],
   "source": [
    "eqdata.head()"
   ]
  },
  {
   "cell_type": "code",
   "execution_count": null,
   "metadata": {
    "ExecuteTime": {
     "end_time": "2019-09-09T01:40:02.759957Z",
     "start_time": "2019-09-09T01:40:02.662327Z"
    },
    "colab": {
     "base_uri": "https://localhost:8080/",
     "height": 334
    },
    "id": "405C-Y8_hXsD",
    "outputId": "f240690b-b910-4926-e2b0-8425cf88099b"
   },
   "outputs": [
    {
     "data": {
      "text/html": [
       "<div>\n",
       "<style scoped>\n",
       "    .dataframe tbody tr th:only-of-type {\n",
       "        vertical-align: middle;\n",
       "    }\n",
       "\n",
       "    .dataframe tbody tr th {\n",
       "        vertical-align: top;\n",
       "    }\n",
       "\n",
       "    .dataframe thead th {\n",
       "        text-align: right;\n",
       "    }\n",
       "</style>\n",
       "<table border=\"1\" class=\"dataframe\">\n",
       "  <thead>\n",
       "    <tr style=\"text-align: right;\">\n",
       "      <th></th>\n",
       "      <th>GT</th>\n",
       "      <th>Unnamed: 5</th>\n",
       "      <th>Unnamed: 7</th>\n",
       "      <th>Unnamed: 8</th>\n",
       "      <th>Unnamed: 9</th>\n",
       "      <th>LAT</th>\n",
       "      <th>Unnamed: 11</th>\n",
       "      <th>Unnamed: 12</th>\n",
       "      <th>Unnamed: 15</th>\n",
       "      <th>Unnamed: 16</th>\n",
       "      <th>LON</th>\n",
       "      <th>Unnamed: 18</th>\n",
       "      <th>Unnamed: 19</th>\n",
       "      <th>Unnamed: 20</th>\n",
       "      <th>Unnamed: 21</th>\n",
       "      <th>Unnamed: 22</th>\n",
       "      <th>DEPTH</th>\n",
       "      <th>Q</th>\n",
       "      <th>Unnamed: 25</th>\n",
       "      <th>EVID</th>\n",
       "      <th>Unnamed: 27</th>\n",
       "      <th>Unnamed: 28</th>\n",
       "      <th>Unnamed: 29</th>\n",
       "      <th>Unnamed: 30</th>\n",
       "      <th>Unnamed: 31</th>\n",
       "      <th>NPH</th>\n",
       "      <th>NGRM</th>\n",
       "    </tr>\n",
       "  </thead>\n",
       "  <tbody>\n",
       "    <tr>\n",
       "      <th>count</th>\n",
       "      <td>0.0</td>\n",
       "      <td>70798.000000</td>\n",
       "      <td>0.0</td>\n",
       "      <td>0.0</td>\n",
       "      <td>70798.000000</td>\n",
       "      <td>70798.00000</td>\n",
       "      <td>0.0</td>\n",
       "      <td>9648.000000</td>\n",
       "      <td>7.359000e+03</td>\n",
       "      <td>4.628900e+04</td>\n",
       "      <td>14096.000000</td>\n",
       "      <td>10889.000000</td>\n",
       "      <td>43932.000000</td>\n",
       "      <td>21302.000000</td>\n",
       "      <td>33735.000000</td>\n",
       "      <td>18080.000000</td>\n",
       "      <td>12705.000000</td>\n",
       "      <td>3387.000000</td>\n",
       "      <td>469.000000</td>\n",
       "      <td>2.000000</td>\n",
       "      <td>0.0</td>\n",
       "      <td>0.0</td>\n",
       "      <td>0.0</td>\n",
       "      <td>0.0</td>\n",
       "      <td>0.0</td>\n",
       "      <td>0.0</td>\n",
       "      <td>0.0</td>\n",
       "    </tr>\n",
       "    <tr>\n",
       "      <th>mean</th>\n",
       "      <td>NaN</td>\n",
       "      <td>2.417826</td>\n",
       "      <td>NaN</td>\n",
       "      <td>NaN</td>\n",
       "      <td>33.977749</td>\n",
       "      <td>-116.88145</td>\n",
       "      <td>NaN</td>\n",
       "      <td>13.354343</td>\n",
       "      <td>6.097558e+06</td>\n",
       "      <td>4.482677e+06</td>\n",
       "      <td>524649.772205</td>\n",
       "      <td>16307.082193</td>\n",
       "      <td>43.634321</td>\n",
       "      <td>141.903530</td>\n",
       "      <td>203.562443</td>\n",
       "      <td>78.426383</td>\n",
       "      <td>55.085714</td>\n",
       "      <td>43.415412</td>\n",
       "      <td>14.746269</td>\n",
       "      <td>7.000000</td>\n",
       "      <td>NaN</td>\n",
       "      <td>NaN</td>\n",
       "      <td>NaN</td>\n",
       "      <td>NaN</td>\n",
       "      <td>NaN</td>\n",
       "      <td>NaN</td>\n",
       "      <td>NaN</td>\n",
       "    </tr>\n",
       "    <tr>\n",
       "      <th>std</th>\n",
       "      <td>NaN</td>\n",
       "      <td>0.407683</td>\n",
       "      <td>NaN</td>\n",
       "      <td>NaN</td>\n",
       "      <td>1.156586</td>\n",
       "      <td>1.07667</td>\n",
       "      <td>NaN</td>\n",
       "      <td>2.724517</td>\n",
       "      <td>4.441852e+06</td>\n",
       "      <td>3.130379e+06</td>\n",
       "      <td>281055.136911</td>\n",
       "      <td>25237.230734</td>\n",
       "      <td>121.795817</td>\n",
       "      <td>311.415589</td>\n",
       "      <td>155.337382</td>\n",
       "      <td>56.105321</td>\n",
       "      <td>30.519535</td>\n",
       "      <td>24.266088</td>\n",
       "      <td>17.013243</td>\n",
       "      <td>2.828427</td>\n",
       "      <td>NaN</td>\n",
       "      <td>NaN</td>\n",
       "      <td>NaN</td>\n",
       "      <td>NaN</td>\n",
       "      <td>NaN</td>\n",
       "      <td>NaN</td>\n",
       "      <td>NaN</td>\n",
       "    </tr>\n",
       "    <tr>\n",
       "      <th>min</th>\n",
       "      <td>NaN</td>\n",
       "      <td>2.000000</td>\n",
       "      <td>NaN</td>\n",
       "      <td>NaN</td>\n",
       "      <td>30.094830</td>\n",
       "      <td>-121.76000</td>\n",
       "      <td>NaN</td>\n",
       "      <td>10.000000</td>\n",
       "      <td>1.000432e+06</td>\n",
       "      <td>1.070000e+02</td>\n",
       "      <td>10.000000</td>\n",
       "      <td>0.000000</td>\n",
       "      <td>0.000000</td>\n",
       "      <td>0.000000</td>\n",
       "      <td>0.000000</td>\n",
       "      <td>0.000000</td>\n",
       "      <td>0.000000</td>\n",
       "      <td>0.000000</td>\n",
       "      <td>0.000000</td>\n",
       "      <td>5.000000</td>\n",
       "      <td>NaN</td>\n",
       "      <td>NaN</td>\n",
       "      <td>NaN</td>\n",
       "      <td>NaN</td>\n",
       "      <td>NaN</td>\n",
       "      <td>NaN</td>\n",
       "      <td>NaN</td>\n",
       "    </tr>\n",
       "    <tr>\n",
       "      <th>25%</th>\n",
       "      <td>NaN</td>\n",
       "      <td>2.120000</td>\n",
       "      <td>NaN</td>\n",
       "      <td>NaN</td>\n",
       "      <td>33.061000</td>\n",
       "      <td>-117.69200</td>\n",
       "      <td>NaN</td>\n",
       "      <td>11.200000</td>\n",
       "      <td>3.041641e+06</td>\n",
       "      <td>3.031237e+06</td>\n",
       "      <td>136998.250000</td>\n",
       "      <td>27.000000</td>\n",
       "      <td>18.000000</td>\n",
       "      <td>14.000000</td>\n",
       "      <td>113.000000</td>\n",
       "      <td>48.000000</td>\n",
       "      <td>33.000000</td>\n",
       "      <td>24.000000</td>\n",
       "      <td>0.000000</td>\n",
       "      <td>6.000000</td>\n",
       "      <td>NaN</td>\n",
       "      <td>NaN</td>\n",
       "      <td>NaN</td>\n",
       "      <td>NaN</td>\n",
       "      <td>NaN</td>\n",
       "      <td>NaN</td>\n",
       "      <td>NaN</td>\n",
       "    </tr>\n",
       "    <tr>\n",
       "      <th>50%</th>\n",
       "      <td>NaN</td>\n",
       "      <td>2.300000</td>\n",
       "      <td>NaN</td>\n",
       "      <td>NaN</td>\n",
       "      <td>34.056750</td>\n",
       "      <td>-116.59000</td>\n",
       "      <td>NaN</td>\n",
       "      <td>12.800000</td>\n",
       "      <td>3.229114e+06</td>\n",
       "      <td>3.110080e+06</td>\n",
       "      <td>703081.500000</td>\n",
       "      <td>57.000000</td>\n",
       "      <td>28.000000</td>\n",
       "      <td>23.000000</td>\n",
       "      <td>168.000000</td>\n",
       "      <td>70.000000</td>\n",
       "      <td>50.000000</td>\n",
       "      <td>38.000000</td>\n",
       "      <td>13.000000</td>\n",
       "      <td>7.000000</td>\n",
       "      <td>NaN</td>\n",
       "      <td>NaN</td>\n",
       "      <td>NaN</td>\n",
       "      <td>NaN</td>\n",
       "      <td>NaN</td>\n",
       "      <td>NaN</td>\n",
       "      <td>NaN</td>\n",
       "    </tr>\n",
       "    <tr>\n",
       "      <th>75%</th>\n",
       "      <td>NaN</td>\n",
       "      <td>2.590000</td>\n",
       "      <td>NaN</td>\n",
       "      <td>NaN</td>\n",
       "      <td>34.591000</td>\n",
       "      <td>-116.25100</td>\n",
       "      <td>NaN</td>\n",
       "      <td>14.900000</td>\n",
       "      <td>9.669999e+06</td>\n",
       "      <td>9.027968e+06</td>\n",
       "      <td>725926.500000</td>\n",
       "      <td>37764.000000</td>\n",
       "      <td>42.000000</td>\n",
       "      <td>137.000000</td>\n",
       "      <td>294.000000</td>\n",
       "      <td>92.000000</td>\n",
       "      <td>71.000000</td>\n",
       "      <td>61.000000</td>\n",
       "      <td>24.000000</td>\n",
       "      <td>8.000000</td>\n",
       "      <td>NaN</td>\n",
       "      <td>NaN</td>\n",
       "      <td>NaN</td>\n",
       "      <td>NaN</td>\n",
       "      <td>NaN</td>\n",
       "      <td>NaN</td>\n",
       "      <td>NaN</td>\n",
       "    </tr>\n",
       "    <tr>\n",
       "      <th>max</th>\n",
       "      <td>NaN</td>\n",
       "      <td>7.100000</td>\n",
       "      <td>NaN</td>\n",
       "      <td>NaN</td>\n",
       "      <td>37.985500</td>\n",
       "      <td>-113.71900</td>\n",
       "      <td>NaN</td>\n",
       "      <td>29.300000</td>\n",
       "      <td>3.736673e+07</td>\n",
       "      <td>9.875061e+06</td>\n",
       "      <td>754723.000000</td>\n",
       "      <td>71774.000000</td>\n",
       "      <td>3384.000000</td>\n",
       "      <td>3815.000000</td>\n",
       "      <td>1574.000000</td>\n",
       "      <td>996.000000</td>\n",
       "      <td>227.000000</td>\n",
       "      <td>145.000000</td>\n",
       "      <td>88.000000</td>\n",
       "      <td>9.000000</td>\n",
       "      <td>NaN</td>\n",
       "      <td>NaN</td>\n",
       "      <td>NaN</td>\n",
       "      <td>NaN</td>\n",
       "      <td>NaN</td>\n",
       "      <td>NaN</td>\n",
       "      <td>NaN</td>\n",
       "    </tr>\n",
       "  </tbody>\n",
       "</table>\n",
       "</div>"
      ],
      "text/plain": [
       "        GT    Unnamed: 5  Unnamed: 7  ...  Unnamed: 31  NPH  NGRM\n",
       "count  0.0  70798.000000         0.0  ...          0.0  0.0   0.0\n",
       "mean   NaN      2.417826         NaN  ...          NaN  NaN   NaN\n",
       "std    NaN      0.407683         NaN  ...          NaN  NaN   NaN\n",
       "min    NaN      2.000000         NaN  ...          NaN  NaN   NaN\n",
       "25%    NaN      2.120000         NaN  ...          NaN  NaN   NaN\n",
       "50%    NaN      2.300000         NaN  ...          NaN  NaN   NaN\n",
       "75%    NaN      2.590000         NaN  ...          NaN  NaN   NaN\n",
       "max    NaN      7.100000         NaN  ...          NaN  NaN   NaN\n",
       "\n",
       "[8 rows x 27 columns]"
      ]
     },
     "execution_count": 36,
     "metadata": {},
     "output_type": "execute_result"
    }
   ],
   "source": [
    "eqdata.describe()"
   ]
  },
  {
   "cell_type": "markdown",
   "metadata": {
    "ExecuteTime": {
     "end_time": "2019-09-08T21:24:56.161634Z",
     "start_time": "2019-09-08T21:24:56.157793Z"
    },
    "id": "08Ty-hUOhXsG"
   },
   "source": [
    "now that you have a dataframe object you can use methods of the object to modify it. Use the method ```eqdata.rename``` to change the names of the 3 columns that are the only three relevant to us: _date, time, magnitude_"
   ]
  },
  {
   "cell_type": "markdown",
   "metadata": {
    "id": "dYP53BzDhXsG"
   },
   "source": [
    "## prepare date-time column"
   ]
  },
  {
   "cell_type": "code",
   "execution_count": 4,
   "metadata": {
    "ExecuteTime": {
     "end_time": "2019-09-09T01:40:02.791776Z",
     "start_time": "2019-09-09T01:40:02.761489Z"
    },
    "id": "WFIPxVG_hXsH"
   },
   "outputs": [],
   "source": [
    "eqdata = eqdata[['#YYY/MM/DD', 'HH:mm:SS.ss', 'Unnamed: 5']].rename({'#YYY/MM/DD':\"date\", 'HH:mm:SS.ss':\"time\", 'Unnamed: 5':\"magnitude\"},axis=1)"
   ]
  },
  {
   "cell_type": "code",
   "execution_count": 5,
   "metadata": {
    "ExecuteTime": {
     "end_time": "2019-09-09T01:40:02.800191Z",
     "start_time": "2019-09-09T01:40:02.793424Z"
    },
    "colab": {
     "base_uri": "https://localhost:8080/",
     "height": 204
    },
    "id": "vZ-NJ-C2hXsJ",
    "outputId": "7264e4d2-5e56-4bd8-ddc6-9c408bc30a7c"
   },
   "outputs": [
    {
     "data": {
      "text/html": [
       "<div>\n",
       "<style scoped>\n",
       "    .dataframe tbody tr th:only-of-type {\n",
       "        vertical-align: middle;\n",
       "    }\n",
       "\n",
       "    .dataframe tbody tr th {\n",
       "        vertical-align: top;\n",
       "    }\n",
       "\n",
       "    .dataframe thead th {\n",
       "        text-align: right;\n",
       "    }\n",
       "</style>\n",
       "<table border=\"1\" class=\"dataframe\">\n",
       "  <thead>\n",
       "    <tr style=\"text-align: right;\">\n",
       "      <th></th>\n",
       "      <th>date</th>\n",
       "      <th>time</th>\n",
       "      <th>magnitude</th>\n",
       "    </tr>\n",
       "  </thead>\n",
       "  <tbody>\n",
       "    <tr>\n",
       "      <th>0</th>\n",
       "      <td>1984/01/01</td>\n",
       "      <td>01:30:57.52</td>\n",
       "      <td>2.02</td>\n",
       "    </tr>\n",
       "    <tr>\n",
       "      <th>1</th>\n",
       "      <td>1984/01/01</td>\n",
       "      <td>05:31:34.16</td>\n",
       "      <td>2.12</td>\n",
       "    </tr>\n",
       "    <tr>\n",
       "      <th>2</th>\n",
       "      <td>1984/01/01</td>\n",
       "      <td>06:59:05.14</td>\n",
       "      <td>2.43</td>\n",
       "    </tr>\n",
       "    <tr>\n",
       "      <th>3</th>\n",
       "      <td>1984/01/01</td>\n",
       "      <td>11:10:25.29</td>\n",
       "      <td>2.07</td>\n",
       "    </tr>\n",
       "    <tr>\n",
       "      <th>4</th>\n",
       "      <td>1984/01/01</td>\n",
       "      <td>19:38:19.79</td>\n",
       "      <td>2.13</td>\n",
       "    </tr>\n",
       "  </tbody>\n",
       "</table>\n",
       "</div>"
      ],
      "text/plain": [
       "         date         time  magnitude\n",
       "0  1984/01/01  01:30:57.52       2.02\n",
       "1  1984/01/01  05:31:34.16       2.12\n",
       "2  1984/01/01  06:59:05.14       2.43\n",
       "3  1984/01/01  11:10:25.29       2.07\n",
       "4  1984/01/01  19:38:19.79       2.13"
      ]
     },
     "execution_count": 5,
     "metadata": {},
     "output_type": "execute_result"
    }
   ],
   "source": [
    "eqdata.head()"
   ]
  },
  {
   "cell_type": "code",
   "execution_count": 6,
   "metadata": {
    "ExecuteTime": {
     "end_time": "2019-09-09T01:40:02.813328Z",
     "start_time": "2019-09-09T01:40:02.801494Z"
    },
    "colab": {
     "base_uri": "https://localhost:8080/",
     "height": 297
    },
    "id": "BQHplE_shXsL",
    "outputId": "e912d950-5135-4ea6-cf27-c7e07a87fa9c"
   },
   "outputs": [
    {
     "data": {
      "text/html": [
       "<div>\n",
       "<style scoped>\n",
       "    .dataframe tbody tr th:only-of-type {\n",
       "        vertical-align: middle;\n",
       "    }\n",
       "\n",
       "    .dataframe tbody tr th {\n",
       "        vertical-align: top;\n",
       "    }\n",
       "\n",
       "    .dataframe thead th {\n",
       "        text-align: right;\n",
       "    }\n",
       "</style>\n",
       "<table border=\"1\" class=\"dataframe\">\n",
       "  <thead>\n",
       "    <tr style=\"text-align: right;\">\n",
       "      <th></th>\n",
       "      <th>magnitude</th>\n",
       "    </tr>\n",
       "  </thead>\n",
       "  <tbody>\n",
       "    <tr>\n",
       "      <th>count</th>\n",
       "      <td>70798.000000</td>\n",
       "    </tr>\n",
       "    <tr>\n",
       "      <th>mean</th>\n",
       "      <td>2.417826</td>\n",
       "    </tr>\n",
       "    <tr>\n",
       "      <th>std</th>\n",
       "      <td>0.407683</td>\n",
       "    </tr>\n",
       "    <tr>\n",
       "      <th>min</th>\n",
       "      <td>2.000000</td>\n",
       "    </tr>\n",
       "    <tr>\n",
       "      <th>25%</th>\n",
       "      <td>2.120000</td>\n",
       "    </tr>\n",
       "    <tr>\n",
       "      <th>50%</th>\n",
       "      <td>2.300000</td>\n",
       "    </tr>\n",
       "    <tr>\n",
       "      <th>75%</th>\n",
       "      <td>2.590000</td>\n",
       "    </tr>\n",
       "    <tr>\n",
       "      <th>max</th>\n",
       "      <td>7.100000</td>\n",
       "    </tr>\n",
       "  </tbody>\n",
       "</table>\n",
       "</div>"
      ],
      "text/plain": [
       "          magnitude\n",
       "count  70798.000000\n",
       "mean       2.417826\n",
       "std        0.407683\n",
       "min        2.000000\n",
       "25%        2.120000\n",
       "50%        2.300000\n",
       "75%        2.590000\n",
       "max        7.100000"
      ]
     },
     "execution_count": 6,
     "metadata": {},
     "output_type": "execute_result"
    }
   ],
   "source": [
    "eqdata.describe()"
   ]
  },
  {
   "cell_type": "markdown",
   "metadata": {
    "id": "EMiRblXihXsN"
   },
   "source": [
    "Now you want to combine the columns containing date and time and convert them to a \"datetime\" kind of data object. \n"
   ]
  },
  {
   "cell_type": "markdown",
   "metadata": {
    "ExecuteTime": {
     "end_time": "2019-09-08T21:26:57.438903Z",
     "start_time": "2019-09-08T21:26:57.435133Z"
    },
    "id": "ZPOv1TJihXsN"
   },
   "source": [
    "What data type are the _time_ and _date_ columns right now? What type you want them to be to conver them to datetime with ```pd.datetime()```? type 'O' means object, typically a string. "
   ]
  },
  {
   "cell_type": "markdown",
   "metadata": {
    "id": "WPMs82BaKc5_"
   },
   "source": [
    "*Data and time before the conversion are just strings of numbers/letters;\n",
    "after the conversion the data type together is the datetime data type, which allows for finding the differences of two dates, which is much harder with just strings.*"
   ]
  },
  {
   "cell_type": "code",
   "execution_count": null,
   "metadata": {
    "ExecuteTime": {
     "end_time": "2019-09-09T01:40:02.859962Z",
     "start_time": "2019-09-09T01:40:02.856654Z"
    },
    "colab": {
     "base_uri": "https://localhost:8080/"
    },
    "id": "sqfVbxyYhXsO",
    "outputId": "4cebb2cd-776c-4916-8fc8-6528b293f455"
   },
   "outputs": [
    {
     "data": {
      "text/plain": [
       "(dtype('O'), dtype('O'))"
      ]
     },
     "execution_count": 40,
     "metadata": {},
     "output_type": "execute_result"
    }
   ],
   "source": [
    "eqdata.time.dtype, eqdata.date.dtype #eqdata.datetime.dtype"
   ]
  },
  {
   "cell_type": "markdown",
   "metadata": {
    "ExecuteTime": {
     "end_time": "2019-09-08T21:28:58.082172Z",
     "start_time": "2019-09-08T21:28:58.078926Z"
    },
    "id": "O9qP9mRShXsP"
   },
   "source": [
    "to do this conversion I \n",
    "\n",
    "   1. joined date and time into a single string for each row with a [\"list comprehension\"](https://www.pythonforbeginners.com/basics/list-comprehensions-in-python) (essentially a for loop but more efficient and compact). You do not have to do it with a list comprehension, you can use just a for loop.\n",
    "\n",
    "   2. used pd.datetime() to convert the resulting new dataframe column into a dataframe column containing _datetime_ objects (see lab)\n",
    "\n",
    "   3. but this did not work because of the formatting of some dates, so I had to go back and fix 5 entries. (you are on your own to figure out this one)"
   ]
  },
  {
   "cell_type": "code",
   "execution_count": 7,
   "metadata": {
    "id": "A5GQGqhjJ5Wj"
   },
   "outputs": [],
   "source": [
    "eqdata[\"time\"]=eqdata[\"time\"].str.replace(\"60.00\",\"59.99\")"
   ]
  },
  {
   "cell_type": "code",
   "execution_count": 8,
   "metadata": {
    "ExecuteTime": {
     "end_time": "2019-09-09T01:40:12.489690Z",
     "start_time": "2019-09-09T01:40:02.914845Z"
    },
    "id": "eOUTqBDOhXsQ"
   },
   "outputs": [],
   "source": [
    "eqdata[\"datetime\"]=pd.to_datetime([eqdata.iloc[i].date + \" \" + eqdata.iloc[i].time for i in range(len(eqdata))]) #len(data2)"
   ]
  },
  {
   "cell_type": "code",
   "execution_count": 10,
   "metadata": {
    "ExecuteTime": {
     "end_time": "2019-09-09T01:40:29.216627Z",
     "start_time": "2019-09-09T01:40:29.206374Z"
    },
    "colab": {
     "base_uri": "https://localhost:8080/",
     "height": 204
    },
    "id": "o9PeG5J5hXsU",
    "outputId": "f17c4202-a22c-49b2-f8f4-e2daec8ff385"
   },
   "outputs": [
    {
     "data": {
      "text/html": [
       "<div>\n",
       "<style scoped>\n",
       "    .dataframe tbody tr th:only-of-type {\n",
       "        vertical-align: middle;\n",
       "    }\n",
       "\n",
       "    .dataframe tbody tr th {\n",
       "        vertical-align: top;\n",
       "    }\n",
       "\n",
       "    .dataframe thead th {\n",
       "        text-align: right;\n",
       "    }\n",
       "</style>\n",
       "<table border=\"1\" class=\"dataframe\">\n",
       "  <thead>\n",
       "    <tr style=\"text-align: right;\">\n",
       "      <th></th>\n",
       "      <th>date</th>\n",
       "      <th>time</th>\n",
       "      <th>magnitude</th>\n",
       "      <th>datetime</th>\n",
       "    </tr>\n",
       "  </thead>\n",
       "  <tbody>\n",
       "    <tr>\n",
       "      <th>0</th>\n",
       "      <td>1984/01/01</td>\n",
       "      <td>01:30:57.52</td>\n",
       "      <td>2.02</td>\n",
       "      <td>1984-01-01 01:30:57.520</td>\n",
       "    </tr>\n",
       "    <tr>\n",
       "      <th>1</th>\n",
       "      <td>1984/01/01</td>\n",
       "      <td>05:31:34.16</td>\n",
       "      <td>2.12</td>\n",
       "      <td>1984-01-01 05:31:34.160</td>\n",
       "    </tr>\n",
       "    <tr>\n",
       "      <th>2</th>\n",
       "      <td>1984/01/01</td>\n",
       "      <td>06:59:05.14</td>\n",
       "      <td>2.43</td>\n",
       "      <td>1984-01-01 06:59:05.140</td>\n",
       "    </tr>\n",
       "    <tr>\n",
       "      <th>3</th>\n",
       "      <td>1984/01/01</td>\n",
       "      <td>11:10:25.29</td>\n",
       "      <td>2.07</td>\n",
       "      <td>1984-01-01 11:10:25.290</td>\n",
       "    </tr>\n",
       "    <tr>\n",
       "      <th>4</th>\n",
       "      <td>1984/01/01</td>\n",
       "      <td>19:38:19.79</td>\n",
       "      <td>2.13</td>\n",
       "      <td>1984-01-01 19:38:19.790</td>\n",
       "    </tr>\n",
       "  </tbody>\n",
       "</table>\n",
       "</div>"
      ],
      "text/plain": [
       "         date         time  magnitude                datetime\n",
       "0  1984/01/01  01:30:57.52       2.02 1984-01-01 01:30:57.520\n",
       "1  1984/01/01  05:31:34.16       2.12 1984-01-01 05:31:34.160\n",
       "2  1984/01/01  06:59:05.14       2.43 1984-01-01 06:59:05.140\n",
       "3  1984/01/01  11:10:25.29       2.07 1984-01-01 11:10:25.290\n",
       "4  1984/01/01  19:38:19.79       2.13 1984-01-01 19:38:19.790"
      ]
     },
     "execution_count": 10,
     "metadata": {},
     "output_type": "execute_result"
    }
   ],
   "source": [
    "eqdata.head()"
   ]
  },
  {
   "cell_type": "markdown",
   "metadata": {
    "id": "zAmaMzQIhXsW"
   },
   "source": [
    "## select valuable data"
   ]
  },
  {
   "cell_type": "markdown",
   "metadata": {
    "id": "R3kga7VvhXsZ"
   },
   "source": [
    "Following the description in Section 2  of Corral 2018 I removed all data that did not belong to a \"stationary\" period. Third paragraph section 2 of Corral 2018. You can see the cell of code I used to do this [here](https://github.com/fedhere/DSPS/blob/master/HW3/Corral2018_selectStationary.py) at no points cost, cause it was a bit tricky, but I encourage you to try and do it yourself. If you can do it in fewer lines than I did its automatically +5 points (just turning the loop into a list comprehension does not count. That is an obvious way to decrease the number of lines of code; I did not do it simply to enhance readability.)"
   ]
  },
  {
   "cell_type": "code",
   "execution_count": 11,
   "metadata": {
    "ExecuteTime": {
     "end_time": "2019-09-09T01:40:29.230993Z",
     "start_time": "2019-09-09T01:40:29.219163Z"
    },
    "id": "tQRj4CAEhXsZ"
   },
   "outputs": [],
   "source": [
    "ss = []\n",
    "for t in [(1984, 1986.5),\n",
    "(1990.3, 1992.1),\n",
    "          (1994.6, 1995.6),\n",
    "          (1996.1,1996.5),\n",
    "          (1997,1997.6),\n",
    "          (1997.75,1998.15),\n",
    "          (1998.25,1999.35),\n",
    "          (2000.55,2000.8),\n",
    "          (2000.9 ,2001.25),\n",
    "          (2001.6 ,2002),\n",
    "          (2002.5 ,2003)]:\n",
    "\n",
    "    # for each pair I convert the year to datetime (easy)\n",
    "    # then I convert the fraction of year and convert it to days and convert that to a delta-time\n",
    "    # finally I add that deltatime to the year datetime.\n",
    "    ss.append((pd.to_datetime(int(t[0]), format=\"%Y\")\n",
    "        + pd.Timedelta('%.f days'%((t[0] - int(t[0])) * 365.25)),\n",
    "               pd.to_datetime(int(t[1]), format=\"%Y\")\n",
    "        + pd.Timedelta('%.f days'%((t[1] - int(t[1])) * 365.25))))"
   ]
  },
  {
   "cell_type": "code",
   "execution_count": 12,
   "metadata": {
    "ExecuteTime": {
     "end_time": "2019-09-09T01:40:29.237879Z",
     "start_time": "2019-09-09T01:40:29.232647Z"
    },
    "colab": {
     "base_uri": "https://localhost:8080/"
    },
    "id": "qPmYVGWbhXsb",
    "outputId": "681849d7-86d4-4fc1-e9d1-58666b81ea49"
   },
   "outputs": [
    {
     "name": "stdout",
     "output_type": "stream",
     "text": [
      "the 11 timestamp pairs that are the boundaries of good data periods are:\n"
     ]
    }
   ],
   "source": [
    "print (\"the {} timestamp pairs that are the boundaries of good data periods are:\".format(len(ss)))\n"
   ]
  },
  {
   "cell_type": "markdown",
   "metadata": {
    "id": "-470BeBahXsd"
   },
   "source": [
    "The following cell of code shows you the array of bool values (True/False) which I create to use as an index to the input array: when used as an index, a technique called \"broadcasting\" in python, will select only elements of the original array where the index array value is True. something like \n",
    "Try:\n",
    "\n"
   ]
  },
  {
   "cell_type": "code",
   "execution_count": null,
   "metadata": {
    "ExecuteTime": {
     "end_time": "2019-09-09T01:40:29.244355Z",
     "start_time": "2019-09-09T01:40:29.239933Z"
    },
    "colab": {
     "base_uri": "https://localhost:8080/"
    },
    "id": "9wCXH-gfhXsf",
    "outputId": "639f11be-6e10-4164-c661-c10b4e7fb21a"
   },
   "outputs": [
    {
     "data": {
      "text/plain": [
       "(array([0, 1, 2]), array([0, 2]))"
      ]
     },
     "execution_count": 46,
     "metadata": {},
     "output_type": "execute_result"
    }
   ],
   "source": [
    "a = np.array([0, 1, 2])\n",
    "a, a[[True, False, True]]"
   ]
  },
  {
   "cell_type": "markdown",
   "metadata": {
    "ExecuteTime": {
     "end_time": "2019-09-09T01:05:50.836953Z",
     "start_time": "2019-09-09T01:05:50.833542Z"
    },
    "id": "jvZBr-_JhXsi"
   },
   "source": [
    "For each of the 11 valid periods I create a condition \n",
    "``` datetime >= period_start AND datetime <= period_end ``` where AND is a product of booleans: True * False = False.\n",
    "\n",
    "I want to take all chinks of data that satisfy this condition for any of the 11 chunks of time so that is a logical OR operator, or a sum of Booleans: True + False = True \n",
    "\n",
    "This is because ```True``` really corresponds to \"not 0\" and False to \"0\". So ```\"not 0\" * 0 = 0``` and ```\"not 0\" + 0 = not 0```\n",
    "    "
   ]
  },
  {
   "cell_type": "code",
   "execution_count": 13,
   "metadata": {
    "ExecuteTime": {
     "end_time": "2019-09-09T01:40:29.265629Z",
     "start_time": "2019-09-09T01:40:29.245537Z"
    },
    "colab": {
     "base_uri": "https://localhost:8080/"
    },
    "id": "JGuY1EtzhXsj",
    "outputId": "2c11089a-75c6-475a-907d-1ab6f752ee31"
   },
   "outputs": [
    {
     "name": "stderr",
     "output_type": "stream",
     "text": [
      "/Users/home/miniconda3/lib/python3.6/site-packages/ipykernel_launcher.py:1: DeprecationWarning: The default dtype for empty Series will be 'object' instead of 'float64' in a future version. Specify a dtype explicitly to silence this warning.\n",
      "  \"\"\"Entry point for launching an IPython kernel.\n",
      "/Users/home/miniconda3/lib/python3.6/site-packages/pandas/core/computation/expressions.py:204: UserWarning: evaluating in Python space because the '+' operator is not supported by numexpr for the bool dtype, use '|' instead\n",
      "  f\"evaluating in Python space because the {repr(op_str)} \"\n"
     ]
    },
    {
     "data": {
      "text/plain": [
       "0        True\n",
       "1        True\n",
       "2        True\n",
       "3        True\n",
       "4        True\n",
       "         ... \n",
       "70793    True\n",
       "70794    True\n",
       "70795    True\n",
       "70796    True\n",
       "70797    True\n",
       "Length: 70798, dtype: bool"
      ]
     },
     "execution_count": 13,
     "metadata": {},
     "output_type": "execute_result"
    }
   ],
   "source": [
    "datetimeFilter = pd.Series()\n",
    "\n",
    "datetimeFilter = datetimeFilter.append(((eqdata.datetime >= ss [0][0]) & (eqdata.datetime <= ss [0][1])))\n",
    "\n",
    "for i in range(1,len(ss)):\n",
    "  datetimeFilter += (((eqdata.datetime >= ss [i][0]) & (eqdata.datetime <= ss [i][1])))\n",
    "\n",
    "\n",
    "datetimeFilter"
   ]
  },
  {
   "cell_type": "code",
   "execution_count": 14,
   "metadata": {
    "ExecuteTime": {
     "end_time": "2019-09-09T01:40:29.270985Z",
     "start_time": "2019-09-09T01:40:29.267738Z"
    },
    "colab": {
     "base_uri": "https://localhost:8080/"
    },
    "id": "WHyQm6CqhXsl",
    "outputId": "0803e98a-afce-444f-c6d9-aafe92aafefb"
   },
   "outputs": [
    {
     "name": "stdout",
     "output_type": "stream",
     "text": [
      "there are 18852 earthquakes falling in the selected stationary periods\n"
     ]
    }
   ],
   "source": [
    "print (\"there are {} earthquakes falling in the selected stationary periods\".\n",
    "       format(datetimeFilter.sum()))\n"
   ]
  },
  {
   "cell_type": "code",
   "execution_count": 15,
   "metadata": {
    "id": "DZqekuQFn_cM"
   },
   "outputs": [],
   "source": [
    "# your code here: broadcasting to create a dataframe with the good dates only\n",
    "eqGoodData = eqdata[datetimeFilter]"
   ]
  },
  {
   "cell_type": "code",
   "execution_count": 16,
   "metadata": {
    "ExecuteTime": {
     "end_time": "2019-09-09T01:40:29.277256Z",
     "start_time": "2019-09-09T01:40:29.272901Z"
    },
    "colab": {
     "base_uri": "https://localhost:8080/"
    },
    "id": "K7iYLowuhXsm",
    "outputId": "49f12855-0343-49c0-d963-722f0a8ecec7"
   },
   "outputs": [
    {
     "data": {
      "text/plain": [
       "(18852, 4)"
      ]
     },
     "execution_count": 16,
     "metadata": {},
     "output_type": "execute_result"
    }
   ],
   "source": [
    "eqGoodData.shape"
   ]
  },
  {
   "cell_type": "code",
   "execution_count": 17,
   "metadata": {
    "ExecuteTime": {
     "end_time": "2019-09-09T01:40:29.287000Z",
     "start_time": "2019-09-09T01:40:29.279430Z"
    },
    "colab": {
     "base_uri": "https://localhost:8080/",
     "height": 204
    },
    "id": "aMySvYb5hXso",
    "outputId": "2d244724-5ad2-4b5a-ab44-cd86bd05b091"
   },
   "outputs": [
    {
     "data": {
      "text/html": [
       "<div>\n",
       "<style scoped>\n",
       "    .dataframe tbody tr th:only-of-type {\n",
       "        vertical-align: middle;\n",
       "    }\n",
       "\n",
       "    .dataframe tbody tr th {\n",
       "        vertical-align: top;\n",
       "    }\n",
       "\n",
       "    .dataframe thead th {\n",
       "        text-align: right;\n",
       "    }\n",
       "</style>\n",
       "<table border=\"1\" class=\"dataframe\">\n",
       "  <thead>\n",
       "    <tr style=\"text-align: right;\">\n",
       "      <th></th>\n",
       "      <th>date</th>\n",
       "      <th>time</th>\n",
       "      <th>magnitude</th>\n",
       "      <th>datetime</th>\n",
       "    </tr>\n",
       "  </thead>\n",
       "  <tbody>\n",
       "    <tr>\n",
       "      <th>0</th>\n",
       "      <td>1984/01/01</td>\n",
       "      <td>01:30:57.52</td>\n",
       "      <td>2.02</td>\n",
       "      <td>1984-01-01 01:30:57.520</td>\n",
       "    </tr>\n",
       "    <tr>\n",
       "      <th>1</th>\n",
       "      <td>1984/01/01</td>\n",
       "      <td>05:31:34.16</td>\n",
       "      <td>2.12</td>\n",
       "      <td>1984-01-01 05:31:34.160</td>\n",
       "    </tr>\n",
       "    <tr>\n",
       "      <th>2</th>\n",
       "      <td>1984/01/01</td>\n",
       "      <td>06:59:05.14</td>\n",
       "      <td>2.43</td>\n",
       "      <td>1984-01-01 06:59:05.140</td>\n",
       "    </tr>\n",
       "    <tr>\n",
       "      <th>3</th>\n",
       "      <td>1984/01/01</td>\n",
       "      <td>11:10:25.29</td>\n",
       "      <td>2.07</td>\n",
       "      <td>1984-01-01 11:10:25.290</td>\n",
       "    </tr>\n",
       "    <tr>\n",
       "      <th>4</th>\n",
       "      <td>1984/01/01</td>\n",
       "      <td>19:38:19.79</td>\n",
       "      <td>2.13</td>\n",
       "      <td>1984-01-01 19:38:19.790</td>\n",
       "    </tr>\n",
       "  </tbody>\n",
       "</table>\n",
       "</div>"
      ],
      "text/plain": [
       "         date         time  magnitude                datetime\n",
       "0  1984/01/01  01:30:57.52       2.02 1984-01-01 01:30:57.520\n",
       "1  1984/01/01  05:31:34.16       2.12 1984-01-01 05:31:34.160\n",
       "2  1984/01/01  06:59:05.14       2.43 1984-01-01 06:59:05.140\n",
       "3  1984/01/01  11:10:25.29       2.07 1984-01-01 11:10:25.290\n",
       "4  1984/01/01  19:38:19.79       2.13 1984-01-01 19:38:19.790"
      ]
     },
     "execution_count": 17,
     "metadata": {},
     "output_type": "execute_result"
    }
   ],
   "source": [
    "eqGoodData.head()"
   ]
  },
  {
   "cell_type": "markdown",
   "metadata": {
    "ExecuteTime": {
     "end_time": "2019-09-09T01:17:07.527314Z",
     "start_time": "2019-09-09T01:17:07.523165Z"
    },
    "id": "P3MKC5tyhXsp"
   },
   "source": [
    "Now what you really want is the _time interval between earthquakes_ for all events greater than some magnitude m, while all you have are the date and time of the events.: \n",
    "\n",
    "You can remove earthquakes smaller than magnitude 2 by, again, broadcasting. How would that look like?"
   ]
  },
  {
   "cell_type": "code",
   "execution_count": 18,
   "metadata": {
    "ExecuteTime": {
     "end_time": "2019-09-09T01:40:29.292220Z",
     "start_time": "2019-09-09T01:40:29.288359Z"
    },
    "id": "GF-7Xw9AhXsq"
   },
   "outputs": [],
   "source": [
    "eqGoodData = eqGoodData[eqGoodData.magnitude >= 2]"
   ]
  },
  {
   "cell_type": "code",
   "execution_count": 19,
   "metadata": {
    "ExecuteTime": {
     "end_time": "2019-09-09T01:40:29.296885Z",
     "start_time": "2019-09-09T01:40:29.293316Z"
    },
    "colab": {
     "base_uri": "https://localhost:8080/"
    },
    "id": "nTmssr_xhXst",
    "outputId": "cb0ef850-8799-4528-be40-c36f1b81fdd6"
   },
   "outputs": [
    {
     "data": {
      "text/plain": [
       "(18852, 4)"
      ]
     },
     "execution_count": 19,
     "metadata": {},
     "output_type": "execute_result"
    }
   ],
   "source": [
    "eqGoodData.shape #look like for my data it was not needed! that is because I chose M>2 when when I downloaded the data"
   ]
  },
  {
   "cell_type": "markdown",
   "metadata": {
    "id": "Ah6LgDvVhXsu"
   },
   "source": [
    "You can get the time between consecutive earthquakes with the method ```diff()``` of numpy arrays (in a pandas series you can get the data as a numpy array with the attribute .values: ```seried.values```). \n"
   ]
  },
  {
   "cell_type": "code",
   "execution_count": 20,
   "metadata": {
    "ExecuteTime": {
     "end_time": "2019-09-09T01:40:29.303435Z",
     "start_time": "2019-09-09T01:40:29.298440Z"
    },
    "id": "RCJozUPPhXsu"
   },
   "outputs": [],
   "source": [
    "#eqGoodData.datetime.diff()\n",
    "eqGoodData[\"tgaps\"] = eqGoodData.datetime.diff()\n"
   ]
  },
  {
   "cell_type": "code",
   "execution_count": 21,
   "metadata": {
    "colab": {
     "base_uri": "https://localhost:8080/"
    },
    "id": "a6f-j9ThoMUC",
    "outputId": "fee61f54-2c28-4fb0-922f-399ffd9cabad"
   },
   "outputs": [
    {
     "data": {
      "text/plain": [
       "(18852, 5)"
      ]
     },
     "execution_count": 21,
     "metadata": {},
     "output_type": "execute_result"
    }
   ],
   "source": [
    "eqGoodData.shape"
   ]
  },
  {
   "cell_type": "code",
   "execution_count": 22,
   "metadata": {
    "colab": {
     "base_uri": "https://localhost:8080/",
     "height": 204
    },
    "id": "BavypriTXcUV",
    "outputId": "b915b62f-e9c6-4f07-f287-5b808148494a"
   },
   "outputs": [
    {
     "data": {
      "text/html": [
       "<div>\n",
       "<style scoped>\n",
       "    .dataframe tbody tr th:only-of-type {\n",
       "        vertical-align: middle;\n",
       "    }\n",
       "\n",
       "    .dataframe tbody tr th {\n",
       "        vertical-align: top;\n",
       "    }\n",
       "\n",
       "    .dataframe thead th {\n",
       "        text-align: right;\n",
       "    }\n",
       "</style>\n",
       "<table border=\"1\" class=\"dataframe\">\n",
       "  <thead>\n",
       "    <tr style=\"text-align: right;\">\n",
       "      <th></th>\n",
       "      <th>date</th>\n",
       "      <th>time</th>\n",
       "      <th>magnitude</th>\n",
       "      <th>datetime</th>\n",
       "      <th>tgaps</th>\n",
       "    </tr>\n",
       "  </thead>\n",
       "  <tbody>\n",
       "    <tr>\n",
       "      <th>0</th>\n",
       "      <td>1984/01/01</td>\n",
       "      <td>01:30:57.52</td>\n",
       "      <td>2.02</td>\n",
       "      <td>1984-01-01 01:30:57.520</td>\n",
       "      <td>NaT</td>\n",
       "    </tr>\n",
       "    <tr>\n",
       "      <th>1</th>\n",
       "      <td>1984/01/01</td>\n",
       "      <td>05:31:34.16</td>\n",
       "      <td>2.12</td>\n",
       "      <td>1984-01-01 05:31:34.160</td>\n",
       "      <td>0 days 04:00:36.640000</td>\n",
       "    </tr>\n",
       "    <tr>\n",
       "      <th>2</th>\n",
       "      <td>1984/01/01</td>\n",
       "      <td>06:59:05.14</td>\n",
       "      <td>2.43</td>\n",
       "      <td>1984-01-01 06:59:05.140</td>\n",
       "      <td>0 days 01:27:30.980000</td>\n",
       "    </tr>\n",
       "    <tr>\n",
       "      <th>3</th>\n",
       "      <td>1984/01/01</td>\n",
       "      <td>11:10:25.29</td>\n",
       "      <td>2.07</td>\n",
       "      <td>1984-01-01 11:10:25.290</td>\n",
       "      <td>0 days 04:11:20.150000</td>\n",
       "    </tr>\n",
       "    <tr>\n",
       "      <th>4</th>\n",
       "      <td>1984/01/01</td>\n",
       "      <td>19:38:19.79</td>\n",
       "      <td>2.13</td>\n",
       "      <td>1984-01-01 19:38:19.790</td>\n",
       "      <td>0 days 08:27:54.500000</td>\n",
       "    </tr>\n",
       "  </tbody>\n",
       "</table>\n",
       "</div>"
      ],
      "text/plain": [
       "         date         time  magnitude                datetime  \\\n",
       "0  1984/01/01  01:30:57.52       2.02 1984-01-01 01:30:57.520   \n",
       "1  1984/01/01  05:31:34.16       2.12 1984-01-01 05:31:34.160   \n",
       "2  1984/01/01  06:59:05.14       2.43 1984-01-01 06:59:05.140   \n",
       "3  1984/01/01  11:10:25.29       2.07 1984-01-01 11:10:25.290   \n",
       "4  1984/01/01  19:38:19.79       2.13 1984-01-01 19:38:19.790   \n",
       "\n",
       "                   tgaps  \n",
       "0                    NaT  \n",
       "1 0 days 04:00:36.640000  \n",
       "2 0 days 01:27:30.980000  \n",
       "3 0 days 04:11:20.150000  \n",
       "4 0 days 08:27:54.500000  "
      ]
     },
     "execution_count": 22,
     "metadata": {},
     "output_type": "execute_result"
    }
   ],
   "source": [
    "eqGoodData.head()"
   ]
  },
  {
   "cell_type": "code",
   "execution_count": null,
   "metadata": {
    "colab": {
     "base_uri": "https://localhost:8080/",
     "height": 297
    },
    "id": "pC2aJCuVXfM3",
    "outputId": "1861b9b0-55d0-4388-c306-d5bc809de527"
   },
   "outputs": [
    {
     "data": {
      "text/html": [
       "<div>\n",
       "<style scoped>\n",
       "    .dataframe tbody tr th:only-of-type {\n",
       "        vertical-align: middle;\n",
       "    }\n",
       "\n",
       "    .dataframe tbody tr th {\n",
       "        vertical-align: top;\n",
       "    }\n",
       "\n",
       "    .dataframe thead th {\n",
       "        text-align: right;\n",
       "    }\n",
       "</style>\n",
       "<table border=\"1\" class=\"dataframe\">\n",
       "  <thead>\n",
       "    <tr style=\"text-align: right;\">\n",
       "      <th></th>\n",
       "      <th>magnitude</th>\n",
       "      <th>tgaps</th>\n",
       "    </tr>\n",
       "  </thead>\n",
       "  <tbody>\n",
       "    <tr>\n",
       "      <th>count</th>\n",
       "      <td>18852.000000</td>\n",
       "      <td>18851</td>\n",
       "    </tr>\n",
       "    <tr>\n",
       "      <th>mean</th>\n",
       "      <td>2.399488</td>\n",
       "      <td>0 days 08:50:03.239736353</td>\n",
       "    </tr>\n",
       "    <tr>\n",
       "      <th>std</th>\n",
       "      <td>0.392436</td>\n",
       "      <td>12 days 18:39:14.935603512</td>\n",
       "    </tr>\n",
       "    <tr>\n",
       "      <th>min</th>\n",
       "      <td>2.000000</td>\n",
       "      <td>0 days 00:00:00.170000</td>\n",
       "    </tr>\n",
       "    <tr>\n",
       "      <th>25%</th>\n",
       "      <td>2.110000</td>\n",
       "      <td>0 days 00:45:37.220000</td>\n",
       "    </tr>\n",
       "    <tr>\n",
       "      <th>50%</th>\n",
       "      <td>2.290000</td>\n",
       "      <td>0 days 02:29:07.620000</td>\n",
       "    </tr>\n",
       "    <tr>\n",
       "      <th>75%</th>\n",
       "      <td>2.570000</td>\n",
       "      <td>0 days 05:55:39.720000</td>\n",
       "    </tr>\n",
       "    <tr>\n",
       "      <th>max</th>\n",
       "      <td>5.800000</td>\n",
       "      <td>1388 days 11:06:10.750000</td>\n",
       "    </tr>\n",
       "  </tbody>\n",
       "</table>\n",
       "</div>"
      ],
      "text/plain": [
       "          magnitude                       tgaps\n",
       "count  18852.000000                       18851\n",
       "mean       2.399488   0 days 08:50:03.239736353\n",
       "std        0.392436  12 days 18:39:14.935603512\n",
       "min        2.000000      0 days 00:00:00.170000\n",
       "25%        2.110000      0 days 00:45:37.220000\n",
       "50%        2.290000      0 days 02:29:07.620000\n",
       "75%        2.570000      0 days 05:55:39.720000\n",
       "max        5.800000   1388 days 11:06:10.750000"
      ]
     },
     "execution_count": 57,
     "metadata": {},
     "output_type": "execute_result"
    }
   ],
   "source": [
    "eqGoodData.describe()"
   ]
  },
  {
   "cell_type": "markdown",
   "metadata": {
    "id": "wWmOXVyKhO9W"
   },
   "source": [
    "Note that the first entry will be NaT which is Not a Time (corresponding to nan for numerical variables) or maybe a negative number (depends on your exact operations above). You should remove it"
   ]
  },
  {
   "cell_type": "code",
   "execution_count": 23,
   "metadata": {
    "id": "zqOLrvyc0_dL"
   },
   "outputs": [],
   "source": [
    "eqGoodData = eqGoodData[1:]"
   ]
  },
  {
   "cell_type": "code",
   "execution_count": 24,
   "metadata": {
    "colab": {
     "base_uri": "https://localhost:8080/",
     "height": 204
    },
    "id": "kDvKNHD7X1M8",
    "outputId": "c599e6db-0f53-41c8-8fd5-a72b60176c0b"
   },
   "outputs": [
    {
     "data": {
      "text/html": [
       "<div>\n",
       "<style scoped>\n",
       "    .dataframe tbody tr th:only-of-type {\n",
       "        vertical-align: middle;\n",
       "    }\n",
       "\n",
       "    .dataframe tbody tr th {\n",
       "        vertical-align: top;\n",
       "    }\n",
       "\n",
       "    .dataframe thead th {\n",
       "        text-align: right;\n",
       "    }\n",
       "</style>\n",
       "<table border=\"1\" class=\"dataframe\">\n",
       "  <thead>\n",
       "    <tr style=\"text-align: right;\">\n",
       "      <th></th>\n",
       "      <th>date</th>\n",
       "      <th>time</th>\n",
       "      <th>magnitude</th>\n",
       "      <th>datetime</th>\n",
       "      <th>tgaps</th>\n",
       "    </tr>\n",
       "  </thead>\n",
       "  <tbody>\n",
       "    <tr>\n",
       "      <th>1</th>\n",
       "      <td>1984/01/01</td>\n",
       "      <td>05:31:34.16</td>\n",
       "      <td>2.12</td>\n",
       "      <td>1984-01-01 05:31:34.160</td>\n",
       "      <td>0 days 04:00:36.640000</td>\n",
       "    </tr>\n",
       "    <tr>\n",
       "      <th>2</th>\n",
       "      <td>1984/01/01</td>\n",
       "      <td>06:59:05.14</td>\n",
       "      <td>2.43</td>\n",
       "      <td>1984-01-01 06:59:05.140</td>\n",
       "      <td>0 days 01:27:30.980000</td>\n",
       "    </tr>\n",
       "    <tr>\n",
       "      <th>3</th>\n",
       "      <td>1984/01/01</td>\n",
       "      <td>11:10:25.29</td>\n",
       "      <td>2.07</td>\n",
       "      <td>1984-01-01 11:10:25.290</td>\n",
       "      <td>0 days 04:11:20.150000</td>\n",
       "    </tr>\n",
       "    <tr>\n",
       "      <th>4</th>\n",
       "      <td>1984/01/01</td>\n",
       "      <td>19:38:19.79</td>\n",
       "      <td>2.13</td>\n",
       "      <td>1984-01-01 19:38:19.790</td>\n",
       "      <td>0 days 08:27:54.500000</td>\n",
       "    </tr>\n",
       "    <tr>\n",
       "      <th>5</th>\n",
       "      <td>1984/01/01</td>\n",
       "      <td>19:39:19.67</td>\n",
       "      <td>2.13</td>\n",
       "      <td>1984-01-01 19:39:19.670</td>\n",
       "      <td>0 days 00:00:59.880000</td>\n",
       "    </tr>\n",
       "  </tbody>\n",
       "</table>\n",
       "</div>"
      ],
      "text/plain": [
       "         date         time  magnitude                datetime  \\\n",
       "1  1984/01/01  05:31:34.16       2.12 1984-01-01 05:31:34.160   \n",
       "2  1984/01/01  06:59:05.14       2.43 1984-01-01 06:59:05.140   \n",
       "3  1984/01/01  11:10:25.29       2.07 1984-01-01 11:10:25.290   \n",
       "4  1984/01/01  19:38:19.79       2.13 1984-01-01 19:38:19.790   \n",
       "5  1984/01/01  19:39:19.67       2.13 1984-01-01 19:39:19.670   \n",
       "\n",
       "                   tgaps  \n",
       "1 0 days 04:00:36.640000  \n",
       "2 0 days 01:27:30.980000  \n",
       "3 0 days 04:11:20.150000  \n",
       "4 0 days 08:27:54.500000  \n",
       "5 0 days 00:00:59.880000  "
      ]
     },
     "execution_count": 24,
     "metadata": {},
     "output_type": "execute_result"
    }
   ],
   "source": [
    "eqGoodData.head()"
   ]
  },
  {
   "cell_type": "markdown",
   "metadata": {
    "id": "M2VH6Q4xhXsw"
   },
   "source": [
    "# data exploration\n",
    "At this point you should wonder if this is the final dataset that you want to use and if anything is weird or suspicious about it. Visualize the distribution. A good way to visualize distributions is a histogram which you can prodice with pl.hist() or as a method of your dataframe series as ```df[SeriesName].plot(kind=\"hist\")```. Produce a plot like the one below (label the axis! and describe it with a caption!). To get the logarithmic y axis you can se ```logy=True```, for example. in your ```df[SeriesName].plot``` call."
   ]
  },
  {
   "cell_type": "code",
   "execution_count": 25,
   "metadata": {
    "colab": {
     "base_uri": "https://localhost:8080/",
     "height": 362
    },
    "id": "iDiscxU4XDwg",
    "outputId": "f54bb1ff-ef62-4499-dbb4-004616ce9f02"
   },
   "outputs": [
    {
     "data": {
      "image/png": "[encoded data removed]",
      "text/plain": [
       "<Figure size 432x288 with 1 Axes>"
      ]
     },
     "metadata": {
      "needs_background": "light"
     },
     "output_type": "display_data"
    }
   ],
   "source": [
    "#plt.hist(eqGoodData.magnitude, log = True);\n",
    "eqGoodData1 = eqGoodData\n",
    "eqGoodData1[\"tgaps\"] = eqGoodData.tgaps.values.astype(float)\n",
    "eqGD1Plot = eqGoodData1.tgaps.hist(log = True, color='orange')\n",
    "eqGD1Plot.set_xlabel(\"tgaps\");\n",
    "eqGD1Plot.set_ylabel(\"frequency\");\n",
    "eqGD1Plot.set_title(\"eqGoodData\");"
   ]
  },
  {
   "cell_type": "markdown",
   "metadata": {
    "id": "0kaPXAd3sVY9"
   },
   "source": [
    "Caption: The frequency(number of occurances) relation to the time gaps appears logarithmic, such that at tgaps ~ 0 the frequency is greater than 1000, while it quickly decreases(approaching freq. ~ 0 while tgaps increases), an the points on the histogram become increasingly spread out."
   ]
  },
  {
   "cell_type": "markdown",
   "metadata": {
    "id": "nuPhJkrozh91"
   },
   "source": [
    "\n",
    "\n",
    "\n",
    "\n",
    "\n",
    "The thing that worries me is that by removing some sections of the data to use only stationary periods we created some artificially large gaps: gaps of order ~month. How many nanoseconds in a month? remove all gaps that are larger than about a month and see how the distribution looks (make another histogram)."
   ]
  },
  {
   "cell_type": "code",
   "execution_count": 26,
   "metadata": {
    "colab": {
     "base_uri": "https://localhost:8080/",
     "height": 328
    },
    "id": "0zuGOkWhzhDu",
    "outputId": "e932a69b-de40-4737-a3f0-dbac568c9bca"
   },
   "outputs": [
    {
     "data": {
      "image/png": "[encoded data removed]",
      "text/plain": [
       "<Figure size 432x288 with 1 Axes>"
      ]
     },
     "metadata": {
      "needs_background": "light"
     },
     "output_type": "display_data"
    }
   ],
   "source": [
    "nsMonth = 2.628e+15\n",
    "eqGoodData2 = eqGoodData1[eqGoodData.tgaps<nsMonth]\n",
    "eqGD2Plot = eqGoodData2.tgaps.hist(log = True, color = 'skyblue')\n",
    "eqGD2Plot.set_xlabel(\"tgaps\");\n",
    "eqGD2Plot.set_ylabel(\"frequency\");\n",
    "eqGD2Plot.set_title(\"eqGoodData; removed gaps > one month\");\n",
    "# only 10 removed (eqGoodData1.shape)"
   ]
  },
  {
   "cell_type": "markdown",
   "metadata": {
    "id": "2MlLd7lswsbj"
   },
   "source": [
    "Caption: the difference between this data and that of the first plot is that this data only counts the points where the tgaps are less than the nsMonth value. this produced a visibly different result, such that the resulting histogram "
   ]
  },
  {
   "cell_type": "markdown",
   "metadata": {
    "id": "gn-HuVevYOo7"
   },
   "source": [
    "# data analysis"
   ]
  },
  {
   "cell_type": "markdown",
   "metadata": {
    "id": "Q2xYwKRB2sx9"
   },
   "source": [
    "### important: the paper does not do it but I want you to formally choose a threshold before you do this test. Choose a p-value (=$\\alpha$ thresold: call your variable ```alpha```) of 3-$\\sigma$."
   ]
  },
  {
   "cell_type": "markdown",
   "metadata": {
    "id": "pt5MAQEZhXsz"
   },
   "source": [
    "Follow the instructions (algorithm) in **Section 3 paragraph 3** and compare your results with the results in table 1 with a threshold  of = 0.01 and 0.001\n",
    "\n",
    "Do it for all 5 magnitude thresholds as indicated in the paper (and in Table 1).\n",
    "\n",
    "Note that the x axis in plot Fig 1 is in _log space_. Use ```np.log10()``` to take the logarithm of the time gaps.\n",
    "\n",
    "The pseudocode for the algorithm is [here](https://github.com/fedhere/DSPS/blob/master/HW3/Corral2018_pseudocode.md).\n"
   ]
  },
  {
   "cell_type": "markdown",
   "metadata": {
    "id": "gXWK4x4FhXs1"
   },
   "source": [
    "Reproduce the paper Fig 1 and Table 1. In the Table report the size of each dataset after cleaning the value of the statistic and the p-value, as done in Corral 2018. Use the scipy function for the 2 sample KS test. (resources [here](https://colab.research.google.com/notebooks/markdown_guide.ipynb#scrollTo=70pYkR9LiOV0) to learn about the table syntax in markdown)"
   ]
  },
  {
   "cell_type": "code",
   "execution_count": null,
   "metadata": {
    "ExecuteTime": {
     "end_time": "2019-09-09T01:51:40.043756Z",
     "start_time": "2019-09-09T01:51:39.866325Z"
    },
    "colab": {
     "base_uri": "https://localhost:8080/"
    },
    "id": "BNtqqaXphXs2",
    "outputId": "777e5742-a4f8-4eb4-b265-bf17347bb94b"
   },
   "outputs": [
    {
     "name": "stdout",
     "output_type": "stream",
     "text": [
      "N: 17969\n",
      "N: 5398\n",
      "N: 1354\n",
      "N: 391\n",
      "N: 111\n",
      "-------------------\n",
      "2.0 vs. 2.0: Ks_2sampResult(statistic=-0.0, pvalue=1.0)\n",
      "2.0 vs. 2.5: Ks_2sampResult(statistic=0.013532867759923517, pvalue=0.4326738098087013)\n",
      "2.0 vs. 3.0: Ks_2sampResult(statistic=0.01998781259008925, pvalue=0.6957867821620267)\n",
      "2.0 vs. 3.5: Ks_2sampResult(statistic=0.04978138678448629, pvalue=0.29912053129574284)\n",
      "2.0 vs. 4.0: Ks_2sampResult(statistic=0.10762529461399739, pvalue=0.15520553949363694)\n",
      "-------------------\n",
      "2.5 vs. 2.0: Ks_2sampResult(statistic=0.013532867759923517, pvalue=0.4326738098087013)\n",
      "2.5 vs. 2.5: Ks_2sampResult(statistic=0.0, pvalue=1.0)\n",
      "2.5 vs. 3.0: Ks_2sampResult(statistic=0.017615255499739222, pvalue=1.0)\n",
      "2.5 vs. 3.5: Ks_2sampResult(statistic=0.043738848053034705, pvalue=0.47401283898824154)\n",
      "2.5 vs. 4.0: Ks_2sampResult(statistic=0.10735707919850195, pvalue=0.15127352925902504)\n",
      "-------------------\n",
      "3.0 vs. 2.0: Ks_2sampResult(statistic=0.01998781259008925, pvalue=0.6957867821620267)\n",
      "3.0 vs. 2.5: Ks_2sampResult(statistic=0.017615255499739222, pvalue=1.0)\n",
      "3.0 vs. 3.0: Ks_2sampResult(statistic=0.0, pvalue=1.0)\n",
      "3.0 vs. 3.5: Ks_2sampResult(statistic=0.047533688191094305, pvalue=0.4819866752118519)\n",
      "3.0 vs. 4.0: Ks_2sampResult(statistic=0.11571320212383727, pvalue=0.11784410872257933)\n",
      "-------------------\n",
      "3.5 vs. 2.0: Ks_2sampResult(statistic=0.04978138678448629, pvalue=0.29912053129574284)\n",
      "3.5 vs. 2.5: Ks_2sampResult(statistic=0.043738848053034705, pvalue=0.47401283898824154)\n",
      "3.5 vs. 3.0: Ks_2sampResult(statistic=0.047533688191094305, pvalue=0.4819866752118519)\n",
      "3.5 vs. 3.5: Ks_2sampResult(statistic=0.0, pvalue=1.0)\n",
      "3.5 vs. 4.0: Ks_2sampResult(statistic=0.08197967788760628, pvalue=0.5727112834407071)\n",
      "-------------------\n",
      "4.0 vs. 2.0: Ks_2sampResult(statistic=0.10762529461399739, pvalue=0.15520553949363694)\n",
      "4.0 vs. 2.5: Ks_2sampResult(statistic=0.10735707919850195, pvalue=0.15127352925902504)\n",
      "4.0 vs. 3.0: Ks_2sampResult(statistic=0.11571320212383727, pvalue=0.11784410872257933)\n",
      "4.0 vs. 3.5: Ks_2sampResult(statistic=0.08197967788760628, pvalue=0.5727112834407071)\n",
      "4.0 vs. 4.0: Ks_2sampResult(statistic=0.0, pvalue=1.0)\n"
     ]
    }
   ],
   "source": [
    "alpha = 0.003\n",
    "nsMonth = 2.628e+15\n",
    "l = []\n",
    "m2 = np.array(l)\n",
    "m25 = np.array(l)\n",
    "m3 = np.array(l)\n",
    "m35 = np.array(l)\n",
    "m4 = np.array(l)\n",
    "m = [m2, m25, m3, m35, m4]\n",
    "mF = [2.0, 2.5, 3.0, 3.5, 4.0]\n",
    "hss = []\n",
    "binss = []\n",
    "times = []\n",
    "def algoData(data, threshold):\n",
    "  for i in range(5):\n",
    "    m[i] = data[\"tgaps\"][data.magnitude >= mF[i]].values.astype(float)\n",
    "    m[i] = (m[i])[m[i] < nsMonth]\n",
    "    \n",
    "    Rk = 1 / m[i].mean()\n",
    "    \n",
    "    m[i] = (m[i])[((m[i] * Rk) >= threshold)] * Rk\n",
    "    print(\"N: \" + str(len(m[i])))\n",
    "    \n",
    "\n",
    "\n",
    "  for i in range(5):\n",
    "    print(\"-------------------\")\n",
    "\n",
    "    for j in range(5):\n",
    "\n",
    "      print(str(mF[i])+\" vs. \"+ str(mF[j])+ \": \" + str(sp.stats.ks_2samp(m[i],m[j])))\n",
    "\n",
    "    times.append(np.log10(m[i]))\n",
    "    hs, bins, patch = plt.hist(times[-1],cumulative=True,density=1, histtype=\"step\")\n",
    "    hss.append(hs)\n",
    "    binss.append(bins)\n",
    "    plt.close()\n",
    "    \n",
    "  \n",
    "\n",
    "algoData(eqGoodData,0.01)\n",
    "\n"
   ]
  },
  {
   "cell_type": "code",
   "execution_count": null,
   "metadata": {
    "colab": {
     "base_uri": "https://localhost:8080/",
     "height": 466
    },
    "id": "9FR_orF6gUvW",
    "outputId": "b16382cd-8e80-484d-ed3e-93e71f14e17a"
   },
   "outputs": [
    {
     "name": "stderr",
     "output_type": "stream",
     "text": [
      "findfont: Font family ['[\"sans-serif\"]'] not found. Falling back to DejaVu Sans.\n"
     ]
    },
    {
     "data": {
      "image/png": "[encoded data removed]",
      "text/plain": [
       "<Figure size 800x480 with 1 Axes>"
      ]
     },
     "metadata": {},
     "output_type": "display_data"
    }
   ],
   "source": [
    "plt.figure(figsize=(10, 6), dpi=80)\n",
    "for i in range(5):\n",
    "  plt.plot(binss[i][:-1],hss[i],'k-',alpha = 0.5)\n",
    "  plt.plot(binss[i][:-1],hss[i],'o',label=\"%d\"%i)\n",
    "\n",
    "plt.legend(fontsize = 15);\n",
    "plt.xlabel(\"x*Rk\");\n",
    "plt.ylabel(\"p(x > x*Rk)\");\n"
   ]
  },
  {
   "cell_type": "markdown",
   "metadata": {
    "id": "R7BGbRfky-8Y"
   },
   "source": [
    "Caption: this plot shows the relation between probability p(x > x*Rk) and observed data x*Rk for various values of M(in the legend). Both the horizontal and vertical axes are dimensionless. (minimum x is m = 0.01)"
   ]
  },
  {
   "cell_type": "markdown",
   "metadata": {
    "id": "vz_mOfwqmvkm"
   },
   "source": [
    "m =0.01 | N |M ≥ 2.0|M ≥ 2.5|M ≥ 3.0|M ≥ 3.5|M ≥ 4.0|\n",
    "--------|---|-------|-------|-------|-------|-------|\n",
    "M ≥ 2.0 |17969|----------- |43.2%    |69.5%   |29.9%    |15.5%       |\n",
    "M ≥ 2.5 |5398 |0.013       |-----------     |100%?     |47.4%  |15.1%       |\n",
    "M ≥ 3.0 |1354 |0.019       |0.017       |-----------   |48.2%    | 11.7%    |\n",
    "M ≥ 3.5 |391 |0.049       |0.043       |0.047   |-----------    | 57.2%      |\n",
    "M ≥ 4.0 |111 |0.107       |0.106       |0.117   |0.081   |-----------     |"
   ]
  },
  {
   "cell_type": "markdown",
   "metadata": {
    "id": "0j0FxYVlmyhl"
   },
   "source": [
    "m =0.001 | N |M ≥ 2.0|M ≥ 2.5|M ≥ 3.0|M ≥ 3.5|M ≥ 4.0|\n",
    "--------|---|-------|-------|-------|-------|-------|\n",
    "M ≥ 2.0 |18712|-----------|6.92%    |8.13%       |4.47%      | 18.97%      |\n",
    "M ≥ 2.5 |5670|0.019       |-----------  |100%???    |18.29%   |22.20%       |\n",
    "M ≥ 3.0 |1443|0.034       |0.025      |-----------  |36.90%   |23.66%       |\n",
    "M ≥ 3.5 |422|0.067       |0.054     |0.050    | ----------- |74.34%       |\n",
    "M ≥ 4.0 |115 |0.101       |0.097       |0.098   |0.069  | -----------      |"
   ]
  },
  {
   "cell_type": "markdown",
   "metadata": {
    "id": "6y4wb6lEZsGV"
   },
   "source": [
    "Did you find any statistical significant differences between the distributions? What does it mean? Is your result identical to Correll's 2018? Why or why not? **Discuss!**\n",
    "\n",
    "We did not find any statistical significant differences. Comparing our p-values to the originally set threshold of 0.003, our's seen in the table are larger which suggests that we should not reject the scaling hypothesis. This is the same result that Correll's 2018 reaches. Even though our data was not exactly the same we still reached the same conclusion of non-rejection.\n"
   ]
  },
  {
   "cell_type": "markdown",
   "metadata": {
    "id": "8bQwtZi4Z0pi"
   },
   "source": [
    "### \"extra credits\"\n",
    "\n",
    "**How could you _force_ a significant result?**\n",
    "Organize your result for different magnitude threshold in a numpy array (it should be a 5x5 array) for both cutoffs (0.01 and 0.001). Each of these arrays should contain the p-value for the pair of distributions i,j in cell \\[i\\]\\[j\\] and \\[j\\]\\[i\\]. Use ```imshow``` to visualize this 2D data. FIrst visualize the matrix itself as done below."
   ]
  },
  {
   "cell_type": "code",
   "execution_count": null,
   "metadata": {
    "ExecuteTime": {
     "end_time": "2019-09-09T02:02:18.672458Z",
     "start_time": "2019-09-09T02:02:18.553137Z"
    },
    "colab": {
     "base_uri": "https://localhost:8080/",
     "height": 231
    },
    "id": "mqQSdpVEhXs5",
    "outputId": "e8a9f860-f9e9-4b04-c947-12898f5390e4"
   },
   "outputs": [
    {
     "ename": "NameError",
     "evalue": "ignored",
     "output_type": "error",
     "traceback": [
      "\u001b[0;31m---------------------------------------------------------------------------\u001b[0m",
      "\u001b[0;31mNameError\u001b[0m                                 Traceback (most recent call last)",
      "\u001b[0;32m<ipython-input-64-a2c29d33d7b2>\u001b[0m in \u001b[0;36m<module>\u001b[0;34m()\u001b[0m\n\u001b[1;32m      1\u001b[0m \u001b[0;31m# your code here\u001b[0m\u001b[0;34m\u001b[0m\u001b[0;34m\u001b[0m\u001b[0;34m\u001b[0m\u001b[0m\n\u001b[1;32m      2\u001b[0m \u001b[0;34m\u001b[0m\u001b[0m\n\u001b[0;32m----> 3\u001b[0;31m \u001b[0mpl\u001b[0m\u001b[0;34m.\u001b[0m\u001b[0mimshow\u001b[0m\u001b[0;34m(\u001b[0m\u001b[0;34m(\u001b[0m\u001b[0mks_001\u001b[0m\u001b[0;34m)\u001b[0m\u001b[0;34m)\u001b[0m\u001b[0;34m;\u001b[0m\u001b[0;34m\u001b[0m\u001b[0;34m\u001b[0m\u001b[0m\n\u001b[0m\u001b[1;32m      4\u001b[0m \u001b[0mpl\u001b[0m\u001b[0;34m.\u001b[0m\u001b[0maxis\u001b[0m\u001b[0;34m(\u001b[0m\u001b[0;34m'off'\u001b[0m\u001b[0;34m)\u001b[0m\u001b[0;34m\u001b[0m\u001b[0;34m\u001b[0m\u001b[0m\n\u001b[1;32m      5\u001b[0m \u001b[0mcb\u001b[0m \u001b[0;34m=\u001b[0m \u001b[0mpl\u001b[0m\u001b[0;34m.\u001b[0m\u001b[0mcolorbar\u001b[0m\u001b[0;34m(\u001b[0m\u001b[0;34m)\u001b[0m\u001b[0;34m\u001b[0m\u001b[0;34m\u001b[0m\u001b[0m\n",
      "\u001b[0;31mNameError\u001b[0m: name 'pl' is not defined"
     ]
    }
   ],
   "source": [
    "# your code here\n",
    "        \n",
    "pl.imshow((ks_001));\n",
    "pl.axis('off')\n",
    "cb = pl.colorbar()\n",
    "cb.ax.set_ylabel(r'$p$-value')\n",
    "pl.title(\"KS test results\");\n",
    "#add a caption"
   ]
  },
  {
   "cell_type": "markdown",
   "metadata": {
    "id": "tSJmSMCmmA3w"
   },
   "source": [
    "\n",
    "Now visualize the result as a matrix where the cells are white if the results is not statistically significant and red otherwise. \n",
    "After doing it fot the set alpha threshold, lower your alpha threshold so that at least one pair of distribution has a statistically significant difference. **Warning!! this is an _unethical and horrifying practice_! Once you chose your significance threshold you are never allowed to change it! Why? Discuss**"
   ]
  },
  {
   "cell_type": "markdown",
   "metadata": {
    "id": "txEYubwCcIXP"
   },
   "source": [
    "Redoing it for threshold 0001"
   ]
  },
  {
   "cell_type": "markdown",
   "metadata": {},
   "source": [
    "---"
   ]
  },
  {
   "cell_type": "markdown",
   "metadata": {},
   "source": [
    "<h1 style=\"color:red\"> Great ! minor errors in coding, need to calculate mean twice (-1pts)</h1>\n"
   ]
  },
  {
   "cell_type": "code",
   "execution_count": null,
   "metadata": {},
   "outputs": [],
   "source": []
  }
 ],
 "metadata": {
  "colab": {
   "collapsed_sections": [],
   "name": "Collin_Davidson + Sid + Dakota_HW_3.ipynb",
   "provenance": []
  },
  "kernelspec": {
   "display_name": "Python 3",
   "language": "python",
   "name": "python3"
  },
  "language_info": {
   "codemirror_mode": {
    "name": "ipython",
    "version": 3
   },
   "file_extension": ".py",
   "mimetype": "text/x-python",
   "name": "python",
   "nbconvert_exporter": "python",
   "pygments_lexer": "ipython3",
   "version": "3.6.8"
  },
  "latex_envs": {
   "LaTeX_envs_menu_present": true,
   "autoclose": false,
   "autocomplete": true,
   "bibliofile": "biblio.bib",
   "cite_by": "apalike",
   "current_citInitial": 1,
   "eqLabelWithNumbers": true,
   "eqNumInitial": 1,
   "hotkeys": {
    "equation": "Ctrl-E",
    "itemize": "Ctrl-I"
   },
   "labels_anchors": false,
   "latex_user_defs": false,
   "report_style_numbering": false,
   "user_envs_cfg": false
  },
  "nbTranslate": {
   "displayLangs": [
    "*"
   ],
   "hotkey": "alt-t",
   "langInMainMenu": true,
   "sourceLang": "en",
   "targetLang": "fr",
   "useGoogleTranslate": true
  },
  "toc": {
   "base_numbering": 1,
   "nav_menu": {},
   "number_sections": true,
   "sideBar": true,
   "skip_h1_title": false,
   "title_cell": "Table of Contents",
   "title_sidebar": "Contents",
   "toc_cell": false,
   "toc_position": {},
   "toc_section_display": true,
   "toc_window_display": false
  }
 },
 "nbformat": 4,
 "nbformat_minor": 1
}
